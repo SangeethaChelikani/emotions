{
 "cells": [
  {
   "cell_type": "code",
   "execution_count": 1,
   "id": "exotic-chair",
   "metadata": {
    "_cell_guid": "b1076dfc-b9ad-4769-8c92-a6c4dae69d19",
    "_uuid": "8f2839f25d086af736a60e9eeb907d3b93b6e0e5",
    "execution": {
     "iopub.execute_input": "2021-06-29T10:33:48.512978Z",
     "iopub.status.busy": "2021-06-29T10:33:48.512429Z",
     "iopub.status.idle": "2021-06-29T10:33:48.525600Z",
     "shell.execute_reply": "2021-06-29T10:33:48.525066Z",
     "shell.execute_reply.started": "2021-06-29T10:08:57.783682Z"
    },
    "papermill": {
     "duration": 0.041849,
     "end_time": "2021-06-29T10:33:48.525750",
     "exception": false,
     "start_time": "2021-06-29T10:33:48.483901",
     "status": "completed"
    },
    "tags": []
   },
   "outputs": [],
   "source": [
    "#\n",
    "\n",
    "import numpy as np # linear algebra\n",
    "import pandas as pd # data processing, CSV file I/O (e.g. pd.read_csv)\n",
    "\n",
    "# Input data files are available in the read-only \"../input/\" directory\n",
    "# For example, running this (by clicking run or pressing Shift+Enter) will list all files under the input directory\n",
    "\n",
    "import os\n",
    "for dirname, _, filenames in os.walk('/input'):\n",
    "    for filename in filenames:\n",
    "        print(os.path.join(dirname, filename))\n",
    "\n",
    "# You can write up to 20GB to the current directory (/kaggle/working/) that gets preserved as output when you create a version using \"Save & Run All\" \n",
    "# You can also write temporary files to /kaggle/temp/, but they won't be saved outside of the current session"
   ]
  },
  {
   "cell_type": "code",
   "execution_count": 2,
   "id": "substantial-vegetarian",
   "metadata": {
    "execution": {
     "iopub.execute_input": "2021-06-29T10:33:48.565579Z",
     "iopub.status.busy": "2021-06-29T10:33:48.565020Z",
     "iopub.status.idle": "2021-06-29T10:33:52.674423Z",
     "shell.execute_reply": "2021-06-29T10:33:52.673543Z",
     "shell.execute_reply.started": "2021-06-29T10:08:57.950535Z"
    },
    "papermill": {
     "duration": 4.130724,
     "end_time": "2021-06-29T10:33:52.674583",
     "exception": false,
     "start_time": "2021-06-29T10:33:48.543859",
     "status": "completed"
    },
    "tags": []
   },
   "outputs": [],
   "source": [
    "import matplotlib.pyplot as plt\n",
    "import seaborn as sns\n",
    "import tensorflow as tf\n",
    "import tensorflow \n",
    "\n",
    "from tensorflow import keras\n",
    "from keras.layers import Dense"
   ]
  },
  {
   "cell_type": "code",
   "execution_count": 3,
   "id": "taken-router",
   "metadata": {
    "execution": {
     "iopub.execute_input": "2021-06-29T10:33:52.716756Z",
     "iopub.status.busy": "2021-06-29T10:33:52.716197Z",
     "iopub.status.idle": "2021-06-29T10:33:54.549981Z",
     "shell.execute_reply": "2021-06-29T10:33:54.549090Z",
     "shell.execute_reply.started": "2021-06-29T10:09:02.942046Z"
    },
    "papermill": {
     "duration": 1.856141,
     "end_time": "2021-06-29T10:33:54.550116",
     "exception": false,
     "start_time": "2021-06-29T10:33:52.693975",
     "status": "completed"
    },
    "tags": []
   },
   "outputs": [],
   "source": [
    "data=pd.read_csv('C:/Users/csang/OneDrive/Desktop/Discrimination of Genuine and Acted Emotional Expressions using EEG Signal and Machine Learning/input/emotions.csv')\n",
    "                # ../input/eeg-brainwave-dataset-feeling-emotions/emotions.csv')"
   ]
  },
  {
   "cell_type": "code",
   "execution_count": 4,
   "id": "thick-junction",
   "metadata": {
    "execution": {
     "iopub.execute_input": "2021-06-29T10:33:54.593809Z",
     "iopub.status.busy": "2021-06-29T10:33:54.593263Z",
     "iopub.status.idle": "2021-06-29T10:33:54.622810Z",
     "shell.execute_reply": "2021-06-29T10:33:54.623277Z",
     "shell.execute_reply.started": "2021-06-29T10:09:04.679410Z"
    },
    "papermill": {
     "duration": 0.055246,
     "end_time": "2021-06-29T10:33:54.623437",
     "exception": false,
     "start_time": "2021-06-29T10:33:54.568191",
     "status": "completed"
    },
    "tags": []
   },
   "outputs": [
    {
     "data": {
      "text/html": [
       "<div>\n",
       "<style scoped>\n",
       "    .dataframe tbody tr th:only-of-type {\n",
       "        vertical-align: middle;\n",
       "    }\n",
       "\n",
       "    .dataframe tbody tr th {\n",
       "        vertical-align: top;\n",
       "    }\n",
       "\n",
       "    .dataframe thead th {\n",
       "        text-align: right;\n",
       "    }\n",
       "</style>\n",
       "<table border=\"1\" class=\"dataframe\">\n",
       "  <thead>\n",
       "    <tr style=\"text-align: right;\">\n",
       "      <th></th>\n",
       "      <th># mean_0_a</th>\n",
       "      <th>mean_1_a</th>\n",
       "      <th>mean_2_a</th>\n",
       "      <th>mean_3_a</th>\n",
       "      <th>mean_4_a</th>\n",
       "      <th>mean_d_0_a</th>\n",
       "      <th>mean_d_1_a</th>\n",
       "      <th>mean_d_2_a</th>\n",
       "      <th>mean_d_3_a</th>\n",
       "      <th>mean_d_4_a</th>\n",
       "      <th>...</th>\n",
       "      <th>fft_741_b</th>\n",
       "      <th>fft_742_b</th>\n",
       "      <th>fft_743_b</th>\n",
       "      <th>fft_744_b</th>\n",
       "      <th>fft_745_b</th>\n",
       "      <th>fft_746_b</th>\n",
       "      <th>fft_747_b</th>\n",
       "      <th>fft_748_b</th>\n",
       "      <th>fft_749_b</th>\n",
       "      <th>label</th>\n",
       "    </tr>\n",
       "  </thead>\n",
       "  <tbody>\n",
       "    <tr>\n",
       "      <th>0</th>\n",
       "      <td>4.62</td>\n",
       "      <td>30.3</td>\n",
       "      <td>-356.0</td>\n",
       "      <td>15.6</td>\n",
       "      <td>26.3</td>\n",
       "      <td>1.070</td>\n",
       "      <td>0.411</td>\n",
       "      <td>-15.70</td>\n",
       "      <td>2.06</td>\n",
       "      <td>3.15</td>\n",
       "      <td>...</td>\n",
       "      <td>23.5</td>\n",
       "      <td>20.3</td>\n",
       "      <td>20.3</td>\n",
       "      <td>23.5</td>\n",
       "      <td>-215.0</td>\n",
       "      <td>280.00</td>\n",
       "      <td>-162.00</td>\n",
       "      <td>-162.00</td>\n",
       "      <td>280.00</td>\n",
       "      <td>NEGATIVE</td>\n",
       "    </tr>\n",
       "    <tr>\n",
       "      <th>1</th>\n",
       "      <td>28.80</td>\n",
       "      <td>33.1</td>\n",
       "      <td>32.0</td>\n",
       "      <td>25.8</td>\n",
       "      <td>22.8</td>\n",
       "      <td>6.550</td>\n",
       "      <td>1.680</td>\n",
       "      <td>2.88</td>\n",
       "      <td>3.83</td>\n",
       "      <td>-4.82</td>\n",
       "      <td>...</td>\n",
       "      <td>-23.3</td>\n",
       "      <td>-21.8</td>\n",
       "      <td>-21.8</td>\n",
       "      <td>-23.3</td>\n",
       "      <td>182.0</td>\n",
       "      <td>2.57</td>\n",
       "      <td>-31.60</td>\n",
       "      <td>-31.60</td>\n",
       "      <td>2.57</td>\n",
       "      <td>NEUTRAL</td>\n",
       "    </tr>\n",
       "    <tr>\n",
       "      <th>2</th>\n",
       "      <td>8.90</td>\n",
       "      <td>29.4</td>\n",
       "      <td>-416.0</td>\n",
       "      <td>16.7</td>\n",
       "      <td>23.7</td>\n",
       "      <td>79.900</td>\n",
       "      <td>3.360</td>\n",
       "      <td>90.20</td>\n",
       "      <td>89.90</td>\n",
       "      <td>2.03</td>\n",
       "      <td>...</td>\n",
       "      <td>462.0</td>\n",
       "      <td>-233.0</td>\n",
       "      <td>-233.0</td>\n",
       "      <td>462.0</td>\n",
       "      <td>-267.0</td>\n",
       "      <td>281.00</td>\n",
       "      <td>-148.00</td>\n",
       "      <td>-148.00</td>\n",
       "      <td>281.00</td>\n",
       "      <td>POSITIVE</td>\n",
       "    </tr>\n",
       "    <tr>\n",
       "      <th>3</th>\n",
       "      <td>14.90</td>\n",
       "      <td>31.6</td>\n",
       "      <td>-143.0</td>\n",
       "      <td>19.8</td>\n",
       "      <td>24.3</td>\n",
       "      <td>-0.584</td>\n",
       "      <td>-0.284</td>\n",
       "      <td>8.82</td>\n",
       "      <td>2.30</td>\n",
       "      <td>-1.97</td>\n",
       "      <td>...</td>\n",
       "      <td>299.0</td>\n",
       "      <td>-243.0</td>\n",
       "      <td>-243.0</td>\n",
       "      <td>299.0</td>\n",
       "      <td>132.0</td>\n",
       "      <td>-12.40</td>\n",
       "      <td>9.53</td>\n",
       "      <td>9.53</td>\n",
       "      <td>-12.40</td>\n",
       "      <td>POSITIVE</td>\n",
       "    </tr>\n",
       "    <tr>\n",
       "      <th>4</th>\n",
       "      <td>28.30</td>\n",
       "      <td>31.3</td>\n",
       "      <td>45.2</td>\n",
       "      <td>27.3</td>\n",
       "      <td>24.5</td>\n",
       "      <td>34.800</td>\n",
       "      <td>-5.790</td>\n",
       "      <td>3.06</td>\n",
       "      <td>41.40</td>\n",
       "      <td>5.52</td>\n",
       "      <td>...</td>\n",
       "      <td>12.0</td>\n",
       "      <td>38.1</td>\n",
       "      <td>38.1</td>\n",
       "      <td>12.0</td>\n",
       "      <td>119.0</td>\n",
       "      <td>-17.60</td>\n",
       "      <td>23.90</td>\n",
       "      <td>23.90</td>\n",
       "      <td>-17.60</td>\n",
       "      <td>NEUTRAL</td>\n",
       "    </tr>\n",
       "  </tbody>\n",
       "</table>\n",
       "<p>5 rows × 2549 columns</p>\n",
       "</div>"
      ],
      "text/plain": [
       "   # mean_0_a  mean_1_a  mean_2_a  mean_3_a  mean_4_a  mean_d_0_a  mean_d_1_a  \\\n",
       "0        4.62      30.3    -356.0      15.6      26.3       1.070       0.411   \n",
       "1       28.80      33.1      32.0      25.8      22.8       6.550       1.680   \n",
       "2        8.90      29.4    -416.0      16.7      23.7      79.900       3.360   \n",
       "3       14.90      31.6    -143.0      19.8      24.3      -0.584      -0.284   \n",
       "4       28.30      31.3      45.2      27.3      24.5      34.800      -5.790   \n",
       "\n",
       "   mean_d_2_a  mean_d_3_a  mean_d_4_a  ...  fft_741_b  fft_742_b  fft_743_b  \\\n",
       "0      -15.70        2.06        3.15  ...       23.5       20.3       20.3   \n",
       "1        2.88        3.83       -4.82  ...      -23.3      -21.8      -21.8   \n",
       "2       90.20       89.90        2.03  ...      462.0     -233.0     -233.0   \n",
       "3        8.82        2.30       -1.97  ...      299.0     -243.0     -243.0   \n",
       "4        3.06       41.40        5.52  ...       12.0       38.1       38.1   \n",
       "\n",
       "   fft_744_b  fft_745_b  fft_746_b  fft_747_b  fft_748_b  fft_749_b     label  \n",
       "0       23.5     -215.0     280.00    -162.00    -162.00     280.00  NEGATIVE  \n",
       "1      -23.3      182.0       2.57     -31.60     -31.60       2.57   NEUTRAL  \n",
       "2      462.0     -267.0     281.00    -148.00    -148.00     281.00  POSITIVE  \n",
       "3      299.0      132.0     -12.40       9.53       9.53     -12.40  POSITIVE  \n",
       "4       12.0      119.0     -17.60      23.90      23.90     -17.60   NEUTRAL  \n",
       "\n",
       "[5 rows x 2549 columns]"
      ]
     },
     "execution_count": 4,
     "metadata": {},
     "output_type": "execute_result"
    }
   ],
   "source": [
    "data.head()"
   ]
  },
  {
   "cell_type": "code",
   "execution_count": 5,
   "id": "operating-bones",
   "metadata": {
    "execution": {
     "iopub.execute_input": "2021-06-29T10:33:54.700609Z",
     "iopub.status.busy": "2021-06-29T10:33:54.695647Z",
     "iopub.status.idle": "2021-06-29T10:33:54.939927Z",
     "shell.execute_reply": "2021-06-29T10:33:54.940352Z",
     "shell.execute_reply.started": "2021-06-29T10:09:04.719125Z"
    },
    "papermill": {
     "duration": 0.292724,
     "end_time": "2021-06-29T10:33:54.940538",
     "exception": false,
     "start_time": "2021-06-29T10:33:54.647814",
     "status": "completed"
    },
    "tags": []
   },
   "outputs": [
    {
     "name": "stdout",
     "output_type": "stream",
     "text": [
      "<class 'pandas.core.frame.DataFrame'>\n",
      "RangeIndex: 2132 entries, 0 to 2131\n",
      "Columns: 2549 entries, # mean_0_a to label\n",
      "dtypes: float64(2548), object(1)\n",
      "memory usage: 41.5+ MB\n"
     ]
    }
   ],
   "source": [
    "data.info()"
   ]
  },
  {
   "cell_type": "code",
   "execution_count": 6,
   "id": "mighty-converter",
   "metadata": {
    "execution": {
     "iopub.execute_input": "2021-06-29T10:33:54.985859Z",
     "iopub.status.busy": "2021-06-29T10:33:54.984885Z",
     "iopub.status.idle": "2021-06-29T10:33:55.014143Z",
     "shell.execute_reply": "2021-06-29T10:33:55.014567Z",
     "shell.execute_reply.started": "2021-06-29T10:09:04.957229Z"
    },
    "papermill": {
     "duration": 0.052889,
     "end_time": "2021-06-29T10:33:55.014720",
     "exception": false,
     "start_time": "2021-06-29T10:33:54.961831",
     "status": "completed"
    },
    "tags": []
   },
   "outputs": [
    {
     "data": {
      "text/plain": [
       "0"
      ]
     },
     "execution_count": 6,
     "metadata": {},
     "output_type": "execute_result"
    }
   ],
   "source": [
    "data.isnull().sum().sum()"
   ]
  },
  {
   "cell_type": "code",
   "execution_count": 7,
   "id": "mexican-murray",
   "metadata": {
    "execution": {
     "iopub.execute_input": "2021-06-29T10:33:55.060768Z",
     "iopub.status.busy": "2021-06-29T10:33:55.060080Z",
     "iopub.status.idle": "2021-06-29T10:33:55.065157Z",
     "shell.execute_reply": "2021-06-29T10:33:55.065621Z",
     "shell.execute_reply.started": "2021-06-29T10:09:04.994433Z"
    },
    "papermill": {
     "duration": 0.031157,
     "end_time": "2021-06-29T10:33:55.065772",
     "exception": false,
     "start_time": "2021-06-29T10:33:55.034615",
     "status": "completed"
    },
    "tags": []
   },
   "outputs": [
    {
     "data": {
      "text/plain": [
       "(2132, 2549)"
      ]
     },
     "execution_count": 7,
     "metadata": {},
     "output_type": "execute_result"
    }
   ],
   "source": [
    "data.shape"
   ]
  },
  {
   "cell_type": "code",
   "execution_count": 8,
   "id": "phantom-graduation",
   "metadata": {
    "execution": {
     "iopub.execute_input": "2021-06-29T10:33:55.128175Z",
     "iopub.status.busy": "2021-06-29T10:33:55.123257Z",
     "iopub.status.idle": "2021-06-29T10:33:55.363256Z",
     "shell.execute_reply": "2021-06-29T10:33:55.362832Z"
    },
    "papermill": {
     "duration": 0.277605,
     "end_time": "2021-06-29T10:33:55.363367",
     "exception": false,
     "start_time": "2021-06-29T10:33:55.085762",
     "status": "completed"
    },
    "tags": []
   },
   "outputs": [
    {
     "data": {
      "image/png": "[encoded data removed]",
      "text/plain": [
       "<Figure size 1152x720 with 1 Axes>"
      ]
     },
     "metadata": {
      "needs_background": "light"
     },
     "output_type": "display_data"
    }
   ],
   "source": [
    "sample=data.loc[0,'fft_0_b':'fft_749_b']\n",
    "plt.figure(figsize=(16,10))\n",
    "plt.plot(range(len(sample)), sample)\n",
    "plt.title(\"Features fft_0_b through fft_749_b \")\n",
    "plt.show()"
   ]
  },
  {
   "cell_type": "code",
   "execution_count": 9,
   "id": "minus-wichita",
   "metadata": {
    "execution": {
     "iopub.execute_input": "2021-06-29T10:33:55.417086Z",
     "iopub.status.busy": "2021-06-29T10:33:55.416211Z",
     "iopub.status.idle": "2021-06-29T10:33:55.420198Z",
     "shell.execute_reply": "2021-06-29T10:33:55.420585Z"
    },
    "papermill": {
     "duration": 0.033627,
     "end_time": "2021-06-29T10:33:55.420720",
     "exception": false,
     "start_time": "2021-06-29T10:33:55.387093",
     "status": "completed"
    },
    "tags": []
   },
   "outputs": [
    {
     "data": {
      "text/plain": [
       "NEUTRAL     716\n",
       "POSITIVE    708\n",
       "NEGATIVE    708\n",
       "Name: label, dtype: int64"
      ]
     },
     "execution_count": 9,
     "metadata": {},
     "output_type": "execute_result"
    }
   ],
   "source": [
    "data['label'].value_counts()"
   ]
  },
  {
   "cell_type": "code",
   "execution_count": 10,
   "id": "engaged-apartment",
   "metadata": {
    "execution": {
     "iopub.execute_input": "2021-06-29T10:33:55.471610Z",
     "iopub.status.busy": "2021-06-29T10:33:55.471085Z",
     "iopub.status.idle": "2021-06-29T10:33:55.474278Z",
     "shell.execute_reply": "2021-06-29T10:33:55.474882Z"
    },
    "papermill": {
     "duration": 0.030961,
     "end_time": "2021-06-29T10:33:55.475015",
     "exception": false,
     "start_time": "2021-06-29T10:33:55.444054",
     "status": "completed"
    },
    "tags": []
   },
   "outputs": [],
   "source": [
    "label_mapping={'NEGATIVE':0,'NEUTRAL':1,'POSITIVE':2}"
   ]
  },
  {
   "cell_type": "markdown",
   "id": "built-contributor",
   "metadata": {
    "papermill": {
     "duration": 0.023148,
     "end_time": "2021-06-29T10:33:55.522035",
     "exception": false,
     "start_time": "2021-06-29T10:33:55.498887",
     "status": "completed"
    },
    "tags": []
   },
   "source": [
    "#preprocessing"
   ]
  },
  {
   "cell_type": "code",
   "execution_count": 11,
   "id": "shared-heritage",
   "metadata": {
    "execution": {
     "iopub.execute_input": "2021-06-29T10:33:55.574307Z",
     "iopub.status.busy": "2021-06-29T10:33:55.573658Z",
     "iopub.status.idle": "2021-06-29T10:33:55.722819Z",
     "shell.execute_reply": "2021-06-29T10:33:55.723221Z"
    },
    "papermill": {
     "duration": 0.177729,
     "end_time": "2021-06-29T10:33:55.723375",
     "exception": false,
     "start_time": "2021-06-29T10:33:55.545646",
     "status": "completed"
    },
    "tags": []
   },
   "outputs": [],
   "source": [
    "from sklearn.model_selection import train_test_split"
   ]
  },
  {
   "cell_type": "code",
   "execution_count": 12,
   "id": "norman-vegetation",
   "metadata": {
    "execution": {
     "iopub.execute_input": "2021-06-29T10:33:55.777336Z",
     "iopub.status.busy": "2021-06-29T10:33:55.776829Z",
     "iopub.status.idle": "2021-06-29T10:33:55.780613Z",
     "shell.execute_reply": "2021-06-29T10:33:55.780200Z"
    },
    "papermill": {
     "duration": 0.032889,
     "end_time": "2021-06-29T10:33:55.780727",
     "exception": false,
     "start_time": "2021-06-29T10:33:55.747838",
     "status": "completed"
    },
    "tags": []
   },
   "outputs": [],
   "source": [
    "def preprocess_inputs(df):\n",
    "    df=df.copy()\n",
    "    \n",
    "    df['label']=df['label'].replace(label_mapping)\n",
    "    y=df['label'].copy()\n",
    "    X=df.drop('label',axis=1).copy()\n",
    "    \n",
    "    X_train,X_test,y_train,y_test=train_test_split(X,y,test_size=0.3,random_state=123)\n",
    "    \n",
    "    return X_train,X_test,y_train,y_test\n"
   ]
  },
  {
   "cell_type": "code",
   "execution_count": 13,
   "id": "selective-appraisal",
   "metadata": {
    "execution": {
     "iopub.execute_input": "2021-06-29T10:33:55.834034Z",
     "iopub.status.busy": "2021-06-29T10:33:55.832913Z",
     "iopub.status.idle": "2021-06-29T10:33:55.915848Z",
     "shell.execute_reply": "2021-06-29T10:33:55.916238Z"
    },
    "papermill": {
     "duration": 0.111348,
     "end_time": "2021-06-29T10:33:55.916397",
     "exception": false,
     "start_time": "2021-06-29T10:33:55.805049",
     "status": "completed"
    },
    "tags": []
   },
   "outputs": [],
   "source": [
    "X_train,X_test,y_train,y_test=preprocess_inputs(data)"
   ]
  },
  {
   "cell_type": "code",
   "execution_count": 14,
   "id": "loved-washer",
   "metadata": {
    "execution": {
     "iopub.execute_input": "2021-06-29T10:33:55.971332Z",
     "iopub.status.busy": "2021-06-29T10:33:55.970821Z",
     "iopub.status.idle": "2021-06-29T10:33:55.990721Z",
     "shell.execute_reply": "2021-06-29T10:33:55.990288Z"
    },
    "papermill": {
     "duration": 0.04959,
     "end_time": "2021-06-29T10:33:55.990845",
     "exception": false,
     "start_time": "2021-06-29T10:33:55.941255",
     "status": "completed"
    },
    "tags": []
   },
   "outputs": [
    {
     "data": {
      "text/html": [
       "<div>\n",
       "<style scoped>\n",
       "    .dataframe tbody tr th:only-of-type {\n",
       "        vertical-align: middle;\n",
       "    }\n",
       "\n",
       "    .dataframe tbody tr th {\n",
       "        vertical-align: top;\n",
       "    }\n",
       "\n",
       "    .dataframe thead th {\n",
       "        text-align: right;\n",
       "    }\n",
       "</style>\n",
       "<table border=\"1\" class=\"dataframe\">\n",
       "  <thead>\n",
       "    <tr style=\"text-align: right;\">\n",
       "      <th></th>\n",
       "      <th># mean_0_a</th>\n",
       "      <th>mean_1_a</th>\n",
       "      <th>mean_2_a</th>\n",
       "      <th>mean_3_a</th>\n",
       "      <th>mean_4_a</th>\n",
       "      <th>mean_d_0_a</th>\n",
       "      <th>mean_d_1_a</th>\n",
       "      <th>mean_d_2_a</th>\n",
       "      <th>mean_d_3_a</th>\n",
       "      <th>mean_d_4_a</th>\n",
       "      <th>...</th>\n",
       "      <th>fft_740_b</th>\n",
       "      <th>fft_741_b</th>\n",
       "      <th>fft_742_b</th>\n",
       "      <th>fft_743_b</th>\n",
       "      <th>fft_744_b</th>\n",
       "      <th>fft_745_b</th>\n",
       "      <th>fft_746_b</th>\n",
       "      <th>fft_747_b</th>\n",
       "      <th>fft_748_b</th>\n",
       "      <th>fft_749_b</th>\n",
       "    </tr>\n",
       "  </thead>\n",
       "  <tbody>\n",
       "    <tr>\n",
       "      <th>993</th>\n",
       "      <td>14.400</td>\n",
       "      <td>29.7</td>\n",
       "      <td>-112.0</td>\n",
       "      <td>18.5</td>\n",
       "      <td>22.9</td>\n",
       "      <td>-3.63</td>\n",
       "      <td>-2.22</td>\n",
       "      <td>-2.18</td>\n",
       "      <td>-3.24</td>\n",
       "      <td>-4.04</td>\n",
       "      <td>...</td>\n",
       "      <td>-50.0</td>\n",
       "      <td>150.0</td>\n",
       "      <td>-150.0</td>\n",
       "      <td>-150.0</td>\n",
       "      <td>150.0</td>\n",
       "      <td>63.6</td>\n",
       "      <td>83.8</td>\n",
       "      <td>-40.9</td>\n",
       "      <td>-40.9</td>\n",
       "      <td>83.8</td>\n",
       "    </tr>\n",
       "    <tr>\n",
       "      <th>1851</th>\n",
       "      <td>13.700</td>\n",
       "      <td>22.8</td>\n",
       "      <td>21.5</td>\n",
       "      <td>8.4</td>\n",
       "      <td>27.1</td>\n",
       "      <td>3.27</td>\n",
       "      <td>1.12</td>\n",
       "      <td>6.48</td>\n",
       "      <td>2.30</td>\n",
       "      <td>5.66</td>\n",
       "      <td>...</td>\n",
       "      <td>74.2</td>\n",
       "      <td>-76.0</td>\n",
       "      <td>-10.9</td>\n",
       "      <td>-10.9</td>\n",
       "      <td>-76.0</td>\n",
       "      <td>60.9</td>\n",
       "      <td>-60.4</td>\n",
       "      <td>-31.4</td>\n",
       "      <td>-31.4</td>\n",
       "      <td>-60.4</td>\n",
       "    </tr>\n",
       "    <tr>\n",
       "      <th>1253</th>\n",
       "      <td>-0.765</td>\n",
       "      <td>24.7</td>\n",
       "      <td>-578.0</td>\n",
       "      <td>11.9</td>\n",
       "      <td>27.9</td>\n",
       "      <td>-1.44</td>\n",
       "      <td>-4.20</td>\n",
       "      <td>-8.31</td>\n",
       "      <td>-4.34</td>\n",
       "      <td>4.04</td>\n",
       "      <td>...</td>\n",
       "      <td>-803.0</td>\n",
       "      <td>619.0</td>\n",
       "      <td>-331.0</td>\n",
       "      <td>-331.0</td>\n",
       "      <td>619.0</td>\n",
       "      <td>-551.0</td>\n",
       "      <td>545.0</td>\n",
       "      <td>-261.0</td>\n",
       "      <td>-261.0</td>\n",
       "      <td>545.0</td>\n",
       "    </tr>\n",
       "  </tbody>\n",
       "</table>\n",
       "<p>3 rows × 2548 columns</p>\n",
       "</div>"
      ],
      "text/plain": [
       "      # mean_0_a  mean_1_a  mean_2_a  mean_3_a  mean_4_a  mean_d_0_a  \\\n",
       "993       14.400      29.7    -112.0      18.5      22.9       -3.63   \n",
       "1851      13.700      22.8      21.5       8.4      27.1        3.27   \n",
       "1253      -0.765      24.7    -578.0      11.9      27.9       -1.44   \n",
       "\n",
       "      mean_d_1_a  mean_d_2_a  mean_d_3_a  mean_d_4_a  ...  fft_740_b  \\\n",
       "993        -2.22       -2.18       -3.24       -4.04  ...      -50.0   \n",
       "1851        1.12        6.48        2.30        5.66  ...       74.2   \n",
       "1253       -4.20       -8.31       -4.34        4.04  ...     -803.0   \n",
       "\n",
       "      fft_741_b  fft_742_b  fft_743_b  fft_744_b  fft_745_b  fft_746_b  \\\n",
       "993       150.0     -150.0     -150.0      150.0       63.6       83.8   \n",
       "1851      -76.0      -10.9      -10.9      -76.0       60.9      -60.4   \n",
       "1253      619.0     -331.0     -331.0      619.0     -551.0      545.0   \n",
       "\n",
       "      fft_747_b  fft_748_b  fft_749_b  \n",
       "993       -40.9      -40.9       83.8  \n",
       "1851      -31.4      -31.4      -60.4  \n",
       "1253     -261.0     -261.0      545.0  \n",
       "\n",
       "[3 rows x 2548 columns]"
      ]
     },
     "execution_count": 14,
     "metadata": {},
     "output_type": "execute_result"
    }
   ],
   "source": [
    "X_train.head(3)"
   ]
  },
  {
   "cell_type": "markdown",
   "id": "pending-treasure",
   "metadata": {
    "papermill": {
     "duration": 0.02421,
     "end_time": "2021-06-29T10:33:56.039765",
     "exception": false,
     "start_time": "2021-06-29T10:33:56.015555",
     "status": "completed"
    },
    "tags": []
   },
   "source": [
    "Modelling.Use tensorflow for RNN"
   ]
  },
  {
   "cell_type": "code",
   "execution_count": 15,
   "id": "suitable-annex",
   "metadata": {
    "execution": {
     "iopub.execute_input": "2021-06-29T10:33:56.092922Z",
     "iopub.status.busy": "2021-06-29T10:33:56.092379Z",
     "iopub.status.idle": "2021-06-29T10:33:56.108053Z",
     "shell.execute_reply": "2021-06-29T10:33:56.107282Z"
    },
    "papermill": {
     "duration": 0.044157,
     "end_time": "2021-06-29T10:33:56.108174",
     "exception": false,
     "start_time": "2021-06-29T10:33:56.064017",
     "status": "completed"
    },
    "tags": []
   },
   "outputs": [
    {
     "data": {
      "text/plain": [
       "<tf.Tensor 'input_1:0' shape=(None, 2548) dtype=float32>"
      ]
     },
     "execution_count": 15,
     "metadata": {},
     "output_type": "execute_result"
    }
   ],
   "source": [
    "inputs=tf.keras.Input(shape=(X_train.shape[1]))\n",
    "inputs"
   ]
  },
  {
   "cell_type": "code",
   "execution_count": 16,
   "id": "chronic-reply",
   "metadata": {
    "execution": {
     "iopub.execute_input": "2021-06-29T10:33:56.168290Z",
     "iopub.status.busy": "2021-06-29T10:33:56.167595Z",
     "iopub.status.idle": "2021-06-29T10:33:58.120977Z",
     "shell.execute_reply": "2021-06-29T10:33:58.120571Z",
     "shell.execute_reply.started": "2021-06-29T10:09:05.497957Z"
    },
    "papermill": {
     "duration": 1.988073,
     "end_time": "2021-06-29T10:33:58.121093",
     "exception": false,
     "start_time": "2021-06-29T10:33:56.133020",
     "status": "completed"
    },
    "tags": []
   },
   "outputs": [
    {
     "name": "stdout",
     "output_type": "stream",
     "text": [
      "Model: \"functional_1\"\n",
      "_________________________________________________________________\n",
      "Layer (type)                 Output Shape              Param #   \n",
      "=================================================================\n",
      "input_2 (InputLayer)         [(None, 2548)]            0         \n",
      "_________________________________________________________________\n",
      "dense (Dense)                (None, 64)                163136    \n",
      "_________________________________________________________________\n",
      "dense_1 (Dense)              (None, 64)                4160      \n",
      "_________________________________________________________________\n",
      "dense_2 (Dense)              (None, 3)                 195       \n",
      "=================================================================\n",
      "Total params: 167,491\n",
      "Trainable params: 167,491\n",
      "Non-trainable params: 0\n",
      "_________________________________________________________________\n",
      "None\n"
     ]
    }
   ],
   "source": [
    "inputs=tf.keras.Input(shape=(X_train.shape[1]))\n",
    "\n",
    "x=tf.keras.layers.Dense(64,activation='relu')(inputs)\n",
    "x=tf.keras.layers.Dense(64,activation='relu')(x)\n",
    "\n",
    "outputs=tf.keras.layers.Dense(3,activation='softmax')(x)\n",
    "\n",
    "model=tf.keras.Model(inputs=inputs,outputs=outputs)\n",
    "\n",
    "print(model.summary())"
   ]
  },
  {
   "cell_type": "code",
   "execution_count": 17,
   "id": "tutorial-tucson",
   "metadata": {
    "execution": {
     "iopub.execute_input": "2021-06-29T10:33:58.175063Z",
     "iopub.status.busy": "2021-06-29T10:33:58.174572Z",
     "iopub.status.idle": "2021-06-29T10:33:58.177974Z",
     "shell.execute_reply": "2021-06-29T10:33:58.178407Z",
     "shell.execute_reply.started": "2021-06-29T10:09:08.124834Z"
    },
    "papermill": {
     "duration": 0.032192,
     "end_time": "2021-06-29T10:33:58.178546",
     "exception": false,
     "start_time": "2021-06-29T10:33:58.146354",
     "status": "completed"
    },
    "tags": []
   },
   "outputs": [],
   "source": [
    "from sklearn.metrics import confusion_matrix,classification_report"
   ]
  },
  {
   "cell_type": "code",
   "execution_count": 18,
   "id": "healthy-picking",
   "metadata": {
    "execution": {
     "iopub.execute_input": "2021-06-29T10:33:58.239707Z",
     "iopub.status.busy": "2021-06-29T10:33:58.239115Z",
     "iopub.status.idle": "2021-06-29T10:34:01.707948Z",
     "shell.execute_reply": "2021-06-29T10:34:01.707148Z",
     "shell.execute_reply.started": "2021-06-29T10:09:08.134720Z"
    },
    "papermill": {
     "duration": 3.504525,
     "end_time": "2021-06-29T10:34:01.708073",
     "exception": false,
     "start_time": "2021-06-29T10:33:58.203548",
     "status": "completed"
    },
    "tags": []
   },
   "outputs": [
    {
     "name": "stdout",
     "output_type": "stream",
     "text": [
      "Epoch 1/20\n",
      "38/38 [==============================] - 0s 6ms/step - loss: 21085730897920.0000 - accuracy: 0.5650 - val_loss: 1251064676352.0000 - val_accuracy: 0.5819\n",
      "Epoch 2/20\n",
      "38/38 [==============================] - 0s 2ms/step - loss: 3486182539264.0000 - accuracy: 0.5482 - val_loss: 245811937280.0000 - val_accuracy: 0.5753\n",
      "Epoch 3/20\n",
      "38/38 [==============================] - 0s 2ms/step - loss: 46489367740416.0000 - accuracy: 0.5306 - val_loss: 29929244721152.0000 - val_accuracy: 0.5452\n",
      "Epoch 4/20\n",
      "38/38 [==============================] - 0s 2ms/step - loss: 40295777435648.0000 - accuracy: 0.5700 - val_loss: 23057039097856.0000 - val_accuracy: 0.5819\n",
      "Epoch 5/20\n",
      "38/38 [==============================] - 0s 2ms/step - loss: 30594549415936.0000 - accuracy: 0.5448 - val_loss: 28074334748672.0000 - val_accuracy: 0.5719\n",
      "Epoch 6/20\n",
      "38/38 [==============================] - 0s 2ms/step - loss: 21881228886016.0000 - accuracy: 0.5448 - val_loss: 2388378779648.0000 - val_accuracy: 0.6856\n",
      "Epoch 7/20\n",
      "38/38 [==============================] - 0s 2ms/step - loss: 1438308892672.0000 - accuracy: 0.6262 - val_loss: 397941768192.0000 - val_accuracy: 0.6555\n"
     ]
    }
   ],
   "source": [
    "from sklearn.metrics import confusion_matrix,classification_report\n",
    "model.compile(\n",
    "    optimizer='adam',\n",
    "    loss='sparse_categorical_crossentropy',\n",
    "    metrics=['accuracy']\n",
    ")\n",
    "history=model.fit(\n",
    "    X_train,\n",
    "    y_train,\n",
    "    validation_split=0.2,\n",
    "    batch_size=32,\n",
    "    epochs=20,\n",
    "    callbacks=[\n",
    "        tf.keras.callbacks.EarlyStopping(\n",
    "            monitor='val_loss',\n",
    "            patience=5,\n",
    "            restore_best_weights=True\n",
    "        )\n",
    "    ]\n",
    ")"
   ]
  },
  {
   "cell_type": "code",
   "execution_count": 19,
   "id": "specialized-accommodation",
   "metadata": {
    "execution": {
     "iopub.execute_input": "2021-06-29T10:34:01.783924Z",
     "iopub.status.busy": "2021-06-29T10:34:01.783130Z",
     "iopub.status.idle": "2021-06-29T10:34:01.951900Z",
     "shell.execute_reply": "2021-06-29T10:34:01.952745Z",
     "shell.execute_reply.started": "2021-06-29T10:09:12.076516Z"
    },
    "papermill": {
     "duration": 0.20849,
     "end_time": "2021-06-29T10:34:01.952937",
     "exception": false,
     "start_time": "2021-06-29T10:34:01.744447",
     "status": "completed"
    },
    "tags": []
   },
   "outputs": [
    {
     "name": "stdout",
     "output_type": "stream",
     "text": [
      "Test Accuracy:51.875\n"
     ]
    }
   ],
   "source": [
    "model_acc=model.evaluate(X_test,y_test,verbose=0)[1]\n",
    "print(\"Test Accuracy:{:.3f}\".format(model_acc*100))"
   ]
  },
  {
   "cell_type": "code",
   "execution_count": 20,
   "id": "consolidated-solution",
   "metadata": {
    "execution": {
     "iopub.execute_input": "2021-06-29T10:34:02.030017Z",
     "iopub.status.busy": "2021-06-29T10:34:02.029237Z",
     "iopub.status.idle": "2021-06-29T10:34:02.332096Z",
     "shell.execute_reply": "2021-06-29T10:34:02.331694Z",
     "shell.execute_reply.started": "2021-06-29T10:09:12.382955Z"
    },
    "papermill": {
     "duration": 0.34367,
     "end_time": "2021-06-29T10:34:02.332219",
     "exception": false,
     "start_time": "2021-06-29T10:34:01.988549",
     "status": "completed"
    },
    "tags": []
   },
   "outputs": [
    {
     "data": {
      "image/png": "[encoded data removed]",
      "text/plain": [
       "<Figure size 576x576 with 1 Axes>"
      ]
     },
     "metadata": {
      "needs_background": "light"
     },
     "output_type": "display_data"
    },
    {
     "name": "stdout",
     "output_type": "stream",
     "text": [
      "Classification report\n",
      "-------------------------\n",
      "               precision    recall  f1-score   support\n",
      "\n",
      "    NEGATIVE       0.80      0.80      0.80       201\n",
      "     NEUTRAL       0.52      0.05      0.09       231\n",
      "    POSITIVE       0.38      0.76      0.51       208\n",
      "\n",
      "    accuracy                           0.52       640\n",
      "   macro avg       0.57      0.54      0.47       640\n",
      "weighted avg       0.56      0.52      0.45       640\n",
      "\n"
     ]
    }
   ],
   "source": [
    "y_pred=np.array(list(map(lambda x: np.argmax(x),model.predict(X_test))))\n",
    "cm=confusion_matrix(y_test,y_pred)\n",
    "clr=classification_report(y_test,y_pred,target_names=label_mapping.keys())\n",
    "\n",
    "plt.figure(figsize=(8,8))\n",
    "sns.heatmap(cm,annot=True,vmin=0,fmt='g',cbar=False,cmap='Blues')\n",
    "plt.xticks(np.arange(3)+0.5, label_mapping.keys())\n",
    "plt.yticks(np.arange(3)+0.5, label_mapping.keys())\n",
    "plt.xlabel(\"Predicted\")\n",
    "plt.ylabel(\"Actual\")\n",
    "plt.title(\"Confusion Matrix\")\n",
    "plt.show()\n",
    "print(\"Classification report\\n-------------------------\\n\",clr)"
   ]
  },
  {
   "cell_type": "markdown",
   "id": "becoming-variance",
   "metadata": {
    "papermill": {
     "duration": 0.035578,
     "end_time": "2021-06-29T10:34:02.403927",
     "exception": false,
     "start_time": "2021-06-29T10:34:02.368349",
     "status": "completed"
    },
    "tags": []
   },
   "source": [
    "RNN"
   ]
  },
  {
   "cell_type": "code",
   "execution_count": 21,
   "id": "superb-flashing",
   "metadata": {
    "execution": {
     "iopub.execute_input": "2021-06-29T10:34:02.484338Z",
     "iopub.status.busy": "2021-06-29T10:34:02.483511Z",
     "iopub.status.idle": "2021-06-29T10:34:02.718343Z",
     "shell.execute_reply": "2021-06-29T10:34:02.717260Z",
     "shell.execute_reply.started": "2021-06-29T10:09:12.871988Z"
    },
    "papermill": {
     "duration": 0.279204,
     "end_time": "2021-06-29T10:34:02.718482",
     "exception": false,
     "start_time": "2021-06-29T10:34:02.439278",
     "status": "completed"
    },
    "tags": []
   },
   "outputs": [
    {
     "name": "stdout",
     "output_type": "stream",
     "text": [
      "Model: \"functional_3\"\n",
      "_________________________________________________________________\n",
      "Layer (type)                 Output Shape              Param #   \n",
      "=================================================================\n",
      "input_3 (InputLayer)         [(None, 2548)]            0         \n",
      "_________________________________________________________________\n",
      "tf_op_layer_ExpandDims (Tens [(None, 2548, 1)]         0         \n",
      "_________________________________________________________________\n",
      "gru (GRU)                    (None, 2548, 256)         198912    \n",
      "_________________________________________________________________\n",
      "flatten (Flatten)            (None, 652288)            0         \n",
      "_________________________________________________________________\n",
      "dense_3 (Dense)              (None, 3)                 1956867   \n",
      "=================================================================\n",
      "Total params: 2,155,779\n",
      "Trainable params: 2,155,779\n",
      "Non-trainable params: 0\n",
      "_________________________________________________________________\n",
      "None\n"
     ]
    }
   ],
   "source": [
    "inputs=tf.keras.Input(shape=(X_train.shape[1]))\n",
    "\n",
    "expand_dims=tf.expand_dims(inputs, axis=2)\n",
    "gru=tf.keras.layers.GRU(256,return_sequences=True)(expand_dims)\n",
    "flatten=tf.keras.layers.Flatten()(gru)\n",
    "\n",
    "outputs=tf.keras.layers.Dense(3,activation='softmax')(flatten)\n",
    "\n",
    "model=tf.keras.Model(inputs=inputs,outputs=outputs)\n",
    "\n",
    "print(model.summary())"
   ]
  },
  {
   "cell_type": "markdown",
   "id": "worthy-spread",
   "metadata": {
    "papermill": {
     "duration": 0.035454,
     "end_time": "2021-06-29T10:34:02.790085",
     "exception": false,
     "start_time": "2021-06-29T10:34:02.754631",
     "status": "completed"
    },
    "tags": []
   },
   "source": []
  },
  {
   "cell_type": "code",
   "execution_count": 22,
   "id": "republican-motorcycle",
   "metadata": {
    "execution": {
     "iopub.execute_input": "2021-06-29T10:34:02.874053Z",
     "iopub.status.busy": "2021-06-29T10:34:02.873175Z",
     "iopub.status.idle": "2021-06-29T10:34:51.176365Z",
     "shell.execute_reply": "2021-06-29T10:34:51.175934Z",
     "shell.execute_reply.started": "2021-06-29T10:09:13.180544Z"
    },
    "papermill": {
     "duration": 48.349108,
     "end_time": "2021-06-29T10:34:51.176503",
     "exception": false,
     "start_time": "2021-06-29T10:34:02.827395",
     "status": "completed"
    },
    "tags": []
   },
   "outputs": [
    {
     "name": "stdout",
     "output_type": "stream",
     "text": [
      "Epoch 1/20\n",
      "38/38 [==============================] - 779s 21s/step - loss: 44.9464 - accuracy: 0.7402 - val_loss: 17.2011 - val_accuracy: 0.8997\n",
      "Epoch 2/20\n",
      "38/38 [==============================] - 803s 21s/step - loss: 8.1838 - accuracy: 0.9044 - val_loss: 9.3461 - val_accuracy: 0.8161\n",
      "Epoch 3/20\n",
      "38/38 [==============================] - 966s 25s/step - loss: 1.4243 - accuracy: 0.9623 - val_loss: 3.4943 - val_accuracy: 0.9298\n",
      "Epoch 4/20\n",
      "38/38 [==============================] - 963s 25s/step - loss: 1.2452 - accuracy: 0.9640 - val_loss: 3.5373 - val_accuracy: 0.9298\n",
      "Epoch 5/20\n",
      "38/38 [==============================] - 974s 26s/step - loss: 1.7749 - accuracy: 0.9589 - val_loss: 2.3346 - val_accuracy: 0.9498\n",
      "Epoch 6/20\n",
      "38/38 [==============================] - 967s 25s/step - loss: 0.6418 - accuracy: 0.9866 - val_loss: 0.9057 - val_accuracy: 0.9632\n",
      "Epoch 7/20\n",
      "38/38 [==============================] - 992s 26s/step - loss: 0.4517 - accuracy: 0.9866 - val_loss: 3.3077 - val_accuracy: 0.9465\n",
      "Epoch 8/20\n",
      "38/38 [==============================] - 1108s 29s/step - loss: 0.2028 - accuracy: 0.9958 - val_loss: 4.6099 - val_accuracy: 0.9331\n",
      "Epoch 9/20\n",
      "38/38 [==============================] - 1134s 30s/step - loss: 0.1300 - accuracy: 0.9933 - val_loss: 7.9947 - val_accuracy: 0.9231\n",
      "Epoch 10/20\n",
      "38/38 [==============================] - 1185s 31s/step - loss: 0.4108 - accuracy: 0.9916 - val_loss: 1.6851 - val_accuracy: 0.9565\n",
      "Epoch 11/20\n",
      "38/38 [==============================] - 1224s 32s/step - loss: 0.0408 - accuracy: 0.9975 - val_loss: 1.7215 - val_accuracy: 0.9666\n"
     ]
    }
   ],
   "source": [
    "from sklearn.metrics import confusion_matrix,classification_report\n",
    "model.compile(\n",
    "    optimizer='adam',\n",
    "    loss='sparse_categorical_crossentropy',\n",
    "    metrics=['accuracy']\n",
    ")\n",
    "history=model.fit(\n",
    "    X_train,\n",
    "    y_train,\n",
    "    validation_split=0.2,\n",
    "    batch_size=32,\n",
    "    epochs=20,\n",
    "    callbacks=[\n",
    "        tf.keras.callbacks.EarlyStopping(\n",
    "            monitor='val_loss',\n",
    "            patience=5,\n",
    "            restore_best_weights=True\n",
    "        )\n",
    "    ]\n",
    ")"
   ]
  },
  {
   "cell_type": "markdown",
   "id": "6af8690d",
   "metadata": {},
   "source": [
    "ACTED--NEGATIVE\n",
    "NUTRAL\n",
    "GENUINE--POSITIVE"
   ]
  },
  {
   "cell_type": "code",
   "execution_count": 23,
   "id": "increased-sailing",
   "metadata": {
    "execution": {
     "iopub.execute_input": "2021-06-29T10:34:51.409605Z",
     "iopub.status.busy": "2021-06-29T10:34:51.408798Z",
     "iopub.status.idle": "2021-06-29T10:34:52.769824Z",
     "shell.execute_reply": "2021-06-29T10:34:52.770357Z",
     "shell.execute_reply.started": "2021-06-29T10:10:43.420686Z"
    },
    "papermill": {
     "duration": 1.4794,
     "end_time": "2021-06-29T10:34:52.770569",
     "exception": false,
     "start_time": "2021-06-29T10:34:51.291169",
     "status": "completed"
    },
    "tags": []
   },
   "outputs": [
    {
     "name": "stdout",
     "output_type": "stream",
     "text": [
      "Test Accuracy:95.781\n"
     ]
    }
   ],
   "source": [
    "model_acc=model.evaluate(X_test,y_test,verbose=0)[1]\n",
    "print(\"Test Accuracy:{:.3f}\".format(model_acc*100))"
   ]
  },
  {
   "cell_type": "code",
   "execution_count": 24,
   "id": "lovely-cherry",
   "metadata": {
    "execution": {
     "iopub.execute_input": "2021-06-29T10:34:53.008349Z",
     "iopub.status.busy": "2021-06-29T10:34:53.007565Z",
     "iopub.status.idle": "2021-06-29T10:34:54.515972Z",
     "shell.execute_reply": "2021-06-29T10:34:54.516525Z",
     "shell.execute_reply.started": "2021-06-29T10:11:12.273397Z"
    },
    "papermill": {
     "duration": 1.63075,
     "end_time": "2021-06-29T10:34:54.516700",
     "exception": false,
     "start_time": "2021-06-29T10:34:52.885950",
     "status": "completed"
    },
    "tags": []
   },
   "outputs": [
    {
     "data": {
      "image/png": "[encoded data removed]",
      "text/plain": [
       "<Figure size 576x576 with 1 Axes>"
      ]
     },
     "metadata": {
      "needs_background": "light"
     },
     "output_type": "display_data"
    },
    {
     "name": "stdout",
     "output_type": "stream",
     "text": [
      "Classification report\n",
      "-------------------------\n",
      "               precision    recall  f1-score   support\n",
      "\n",
      "    NEGATIVE       0.94      0.97      0.95       201\n",
      "     NEUTRAL       0.98      0.99      0.98       231\n",
      "    POSITIVE       0.95      0.91      0.93       208\n",
      "\n",
      "    accuracy                           0.96       640\n",
      "   macro avg       0.96      0.96      0.96       640\n",
      "weighted avg       0.96      0.96      0.96       640\n",
      "\n"
     ]
    }
   ],
   "source": [
    "y_pred=np.array(list(map(lambda x: np.argmax(x),model.predict(X_test))))\n",
    "cm=confusion_matrix(y_test,y_pred)\n",
    "clr=classification_report(y_test,y_pred,target_names=label_mapping.keys())\n",
    "\n",
    "plt.figure(figsize=(8,8))\n",
    "sns.heatmap(cm,annot=True,vmin=0,fmt='g',cbar=False,cmap='Blues')\n",
    "plt.xticks(np.arange(3)+0.5, label_mapping.keys())\n",
    "plt.yticks(np.arange(3)+0.5, label_mapping.keys())\n",
    "plt.xlabel(\"Predicted\")\n",
    "plt.ylabel(\"Actual\")\n",
    "plt.title(\"Confusion Matrix\")\n",
    "plt.show()\n",
    "print(\"Classification report\\n-------------------------\\n\",clr)"
   ]
  },
  {
   "cell_type": "code",
   "execution_count": null,
   "id": "rough-lambda",
   "metadata": {
    "papermill": {
     "duration": 0.114986,
     "end_time": "2021-06-29T10:34:54.753609",
     "exception": false,
     "start_time": "2021-06-29T10:34:54.638623",
     "status": "completed"
    },
    "tags": []
   },
   "outputs": [],
   "source": []
  }
 ],
 "metadata": {
  "kernelspec": {
   "display_name": "Python 3",
   "language": "python",
   "name": "python3"
  },
  "language_info": {
   "codemirror_mode": {
    "name": "ipython",
    "version": 3
   },
   "file_extension": ".py",
   "mimetype": "text/x-python",
   "name": "python",
   "nbconvert_exporter": "python",
   "pygments_lexer": "ipython3",
   "version": "3.8.8"
  },
  "papermill": {
   "default_parameters": {},
   "duration": 74.720059,
   "end_time": "2021-06-29T10:34:57.117797",
   "environment_variables": {},
   "exception": null,
   "input_path": "__notebook__.ipynb",
   "output_path": "__notebook__.ipynb",
   "parameters": {},
   "start_time": "2021-06-29T10:33:42.397738",
   "version": "2.3.3"
  }
 },
 "nbformat": 4,
 "nbformat_minor": 5
}
