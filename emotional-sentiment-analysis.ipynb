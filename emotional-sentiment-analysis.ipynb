{
 "cells": [
  {
   "cell_type": "code",
   "execution_count": 1,
   "metadata": {
    "_cell_guid": "b1076dfc-b9ad-4769-8c92-a6c4dae69d19",
    "_uuid": "8f2839f25d086af736a60e9eeb907d3b93b6e0e5",
    "execution": {
     "iopub.execute_input": "2020-10-02T16:31:52.019989Z",
     "iopub.status.busy": "2020-10-02T16:31:52.018823Z",
     "iopub.status.idle": "2020-10-02T16:31:52.026729Z",
     "shell.execute_reply": "2020-10-02T16:31:52.025764Z"
    },
    "papermill": {
     "duration": 0.041573,
     "end_time": "2020-10-02T16:31:52.026929",
     "exception": false,
     "start_time": "2020-10-02T16:31:51.985356",
     "status": "completed"
    },
    "tags": []
   },
   "outputs": [],
   "source": [
    "\n",
    "\n",
    "import numpy as np # linear algebra\n",
    "import pandas as pd # data processing, CSV file I/O (e.g. pd.read_csv)\n",
    "\n",
    "# Input data files are available in the read-only \"../input/\" directory\n",
    "# For example, running this (by clicking run or pressing Shift+Enter) will list all files under the input directory\n",
    "#C:\\Users\\Tru-pro\\Desktop\\Discrimination of Genuine and Acted Emotional Expressions using EEG Signal and Machine Learning\n",
    "import os\n",
    "for dirname, _, filenames in os.walk('/input'):\n",
    "    for filename in filenames:\n",
    "        print(os.path.join(dirname, filename))\n",
    "\n",
    "# You can write up to 5GB to the current directory (/kaggle/working/) that gets preserved as output when you create a version using \"Save & Run All\" \n",
    "# You can also write temporary files to /kaggle/temp/, but they won't be saved outside of the current session"
   ]
  },
  {
   "cell_type": "code",
   "execution_count": 2,
   "metadata": {
    "execution": {
     "iopub.execute_input": "2020-10-02T16:31:52.085018Z",
     "iopub.status.busy": "2020-10-02T16:31:52.083873Z",
     "iopub.status.idle": "2020-10-02T16:31:52.088384Z",
     "shell.execute_reply": "2020-10-02T16:31:52.087476Z"
    },
    "papermill": {
     "duration": 0.034115,
     "end_time": "2020-10-02T16:31:52.088560",
     "exception": false,
     "start_time": "2020-10-02T16:31:52.054445",
     "status": "completed"
    },
    "tags": []
   },
   "outputs": [],
   "source": [
    "import warnings\n",
    "warnings.filterwarnings('ignore')"
   ]
  },
  {
   "cell_type": "code",
   "execution_count": 3,
   "metadata": {
    "_cell_guid": "79c7e3d0-c299-4dcb-8224-4455121ee9b0",
    "_uuid": "d629ff2d2480ee46fbb7e2d37f6b5fab8052498a",
    "execution": {
     "iopub.execute_input": "2020-10-02T16:31:52.158205Z",
     "iopub.status.busy": "2020-10-02T16:31:52.157273Z",
     "iopub.status.idle": "2020-10-02T16:31:54.327763Z",
     "shell.execute_reply": "2020-10-02T16:31:54.327036Z"
    },
    "papermill": {
     "duration": 2.206934,
     "end_time": "2020-10-02T16:31:54.327905",
     "exception": false,
     "start_time": "2020-10-02T16:31:52.120971",
     "status": "completed"
    },
    "tags": []
   },
   "outputs": [],
   "source": [
    "df = pd.read_csv('C:/Users/csang/OneDrive/Desktop/Discrimination of Genuine and Acted Emotional Expressions using EEG Signal and Machine Learning/input/emotions.csv')\n",
    "                # /kaggle/input/eeg-brainwave-dataset-feeling-emotions/emotions.csv')"
   ]
  },
  {
   "cell_type": "code",
   "execution_count": 4,
   "metadata": {
    "execution": {
     "iopub.execute_input": "2020-10-02T16:31:54.391560Z",
     "iopub.status.busy": "2020-10-02T16:31:54.390598Z",
     "iopub.status.idle": "2020-10-02T16:31:54.429405Z",
     "shell.execute_reply": "2020-10-02T16:31:54.428568Z"
    },
    "papermill": {
     "duration": 0.075088,
     "end_time": "2020-10-02T16:31:54.429543",
     "exception": false,
     "start_time": "2020-10-02T16:31:54.354455",
     "status": "completed"
    },
    "scrolled": false,
    "tags": []
   },
   "outputs": [
    {
     "data": {
      "text/html": [
       "<div>\n",
       "<style scoped>\n",
       "    .dataframe tbody tr th:only-of-type {\n",
       "        vertical-align: middle;\n",
       "    }\n",
       "\n",
       "    .dataframe tbody tr th {\n",
       "        vertical-align: top;\n",
       "    }\n",
       "\n",
       "    .dataframe thead th {\n",
       "        text-align: right;\n",
       "    }\n",
       "</style>\n",
       "<table border=\"1\" class=\"dataframe\">\n",
       "  <thead>\n",
       "    <tr style=\"text-align: right;\">\n",
       "      <th></th>\n",
       "      <th># mean_0_a</th>\n",
       "      <th>mean_1_a</th>\n",
       "      <th>mean_2_a</th>\n",
       "      <th>mean_3_a</th>\n",
       "      <th>mean_4_a</th>\n",
       "      <th>mean_d_0_a</th>\n",
       "      <th>mean_d_1_a</th>\n",
       "      <th>mean_d_2_a</th>\n",
       "      <th>mean_d_3_a</th>\n",
       "      <th>mean_d_4_a</th>\n",
       "      <th>...</th>\n",
       "      <th>fft_741_b</th>\n",
       "      <th>fft_742_b</th>\n",
       "      <th>fft_743_b</th>\n",
       "      <th>fft_744_b</th>\n",
       "      <th>fft_745_b</th>\n",
       "      <th>fft_746_b</th>\n",
       "      <th>fft_747_b</th>\n",
       "      <th>fft_748_b</th>\n",
       "      <th>fft_749_b</th>\n",
       "      <th>label</th>\n",
       "    </tr>\n",
       "  </thead>\n",
       "  <tbody>\n",
       "    <tr>\n",
       "      <th>0</th>\n",
       "      <td>4.62</td>\n",
       "      <td>30.3</td>\n",
       "      <td>-356.0</td>\n",
       "      <td>15.6</td>\n",
       "      <td>26.3</td>\n",
       "      <td>1.070</td>\n",
       "      <td>0.411</td>\n",
       "      <td>-15.70</td>\n",
       "      <td>2.06</td>\n",
       "      <td>3.15</td>\n",
       "      <td>...</td>\n",
       "      <td>23.5</td>\n",
       "      <td>20.3</td>\n",
       "      <td>20.3</td>\n",
       "      <td>23.5</td>\n",
       "      <td>-215.0</td>\n",
       "      <td>280.00</td>\n",
       "      <td>-162.00</td>\n",
       "      <td>-162.00</td>\n",
       "      <td>280.00</td>\n",
       "      <td>NEGATIVE</td>\n",
       "    </tr>\n",
       "    <tr>\n",
       "      <th>1</th>\n",
       "      <td>28.80</td>\n",
       "      <td>33.1</td>\n",
       "      <td>32.0</td>\n",
       "      <td>25.8</td>\n",
       "      <td>22.8</td>\n",
       "      <td>6.550</td>\n",
       "      <td>1.680</td>\n",
       "      <td>2.88</td>\n",
       "      <td>3.83</td>\n",
       "      <td>-4.82</td>\n",
       "      <td>...</td>\n",
       "      <td>-23.3</td>\n",
       "      <td>-21.8</td>\n",
       "      <td>-21.8</td>\n",
       "      <td>-23.3</td>\n",
       "      <td>182.0</td>\n",
       "      <td>2.57</td>\n",
       "      <td>-31.60</td>\n",
       "      <td>-31.60</td>\n",
       "      <td>2.57</td>\n",
       "      <td>NEUTRAL</td>\n",
       "    </tr>\n",
       "    <tr>\n",
       "      <th>2</th>\n",
       "      <td>8.90</td>\n",
       "      <td>29.4</td>\n",
       "      <td>-416.0</td>\n",
       "      <td>16.7</td>\n",
       "      <td>23.7</td>\n",
       "      <td>79.900</td>\n",
       "      <td>3.360</td>\n",
       "      <td>90.20</td>\n",
       "      <td>89.90</td>\n",
       "      <td>2.03</td>\n",
       "      <td>...</td>\n",
       "      <td>462.0</td>\n",
       "      <td>-233.0</td>\n",
       "      <td>-233.0</td>\n",
       "      <td>462.0</td>\n",
       "      <td>-267.0</td>\n",
       "      <td>281.00</td>\n",
       "      <td>-148.00</td>\n",
       "      <td>-148.00</td>\n",
       "      <td>281.00</td>\n",
       "      <td>POSITIVE</td>\n",
       "    </tr>\n",
       "    <tr>\n",
       "      <th>3</th>\n",
       "      <td>14.90</td>\n",
       "      <td>31.6</td>\n",
       "      <td>-143.0</td>\n",
       "      <td>19.8</td>\n",
       "      <td>24.3</td>\n",
       "      <td>-0.584</td>\n",
       "      <td>-0.284</td>\n",
       "      <td>8.82</td>\n",
       "      <td>2.30</td>\n",
       "      <td>-1.97</td>\n",
       "      <td>...</td>\n",
       "      <td>299.0</td>\n",
       "      <td>-243.0</td>\n",
       "      <td>-243.0</td>\n",
       "      <td>299.0</td>\n",
       "      <td>132.0</td>\n",
       "      <td>-12.40</td>\n",
       "      <td>9.53</td>\n",
       "      <td>9.53</td>\n",
       "      <td>-12.40</td>\n",
       "      <td>POSITIVE</td>\n",
       "    </tr>\n",
       "    <tr>\n",
       "      <th>4</th>\n",
       "      <td>28.30</td>\n",
       "      <td>31.3</td>\n",
       "      <td>45.2</td>\n",
       "      <td>27.3</td>\n",
       "      <td>24.5</td>\n",
       "      <td>34.800</td>\n",
       "      <td>-5.790</td>\n",
       "      <td>3.06</td>\n",
       "      <td>41.40</td>\n",
       "      <td>5.52</td>\n",
       "      <td>...</td>\n",
       "      <td>12.0</td>\n",
       "      <td>38.1</td>\n",
       "      <td>38.1</td>\n",
       "      <td>12.0</td>\n",
       "      <td>119.0</td>\n",
       "      <td>-17.60</td>\n",
       "      <td>23.90</td>\n",
       "      <td>23.90</td>\n",
       "      <td>-17.60</td>\n",
       "      <td>NEUTRAL</td>\n",
       "    </tr>\n",
       "  </tbody>\n",
       "</table>\n",
       "<p>5 rows × 2549 columns</p>\n",
       "</div>"
      ],
      "text/plain": [
       "   # mean_0_a  mean_1_a  mean_2_a  mean_3_a  mean_4_a  mean_d_0_a  mean_d_1_a  \\\n",
       "0        4.62      30.3    -356.0      15.6      26.3       1.070       0.411   \n",
       "1       28.80      33.1      32.0      25.8      22.8       6.550       1.680   \n",
       "2        8.90      29.4    -416.0      16.7      23.7      79.900       3.360   \n",
       "3       14.90      31.6    -143.0      19.8      24.3      -0.584      -0.284   \n",
       "4       28.30      31.3      45.2      27.3      24.5      34.800      -5.790   \n",
       "\n",
       "   mean_d_2_a  mean_d_3_a  mean_d_4_a  ...  fft_741_b  fft_742_b  fft_743_b  \\\n",
       "0      -15.70        2.06        3.15  ...       23.5       20.3       20.3   \n",
       "1        2.88        3.83       -4.82  ...      -23.3      -21.8      -21.8   \n",
       "2       90.20       89.90        2.03  ...      462.0     -233.0     -233.0   \n",
       "3        8.82        2.30       -1.97  ...      299.0     -243.0     -243.0   \n",
       "4        3.06       41.40        5.52  ...       12.0       38.1       38.1   \n",
       "\n",
       "   fft_744_b  fft_745_b  fft_746_b  fft_747_b  fft_748_b  fft_749_b     label  \n",
       "0       23.5     -215.0     280.00    -162.00    -162.00     280.00  NEGATIVE  \n",
       "1      -23.3      182.0       2.57     -31.60     -31.60       2.57   NEUTRAL  \n",
       "2      462.0     -267.0     281.00    -148.00    -148.00     281.00  POSITIVE  \n",
       "3      299.0      132.0     -12.40       9.53       9.53     -12.40  POSITIVE  \n",
       "4       12.0      119.0     -17.60      23.90      23.90     -17.60   NEUTRAL  \n",
       "\n",
       "[5 rows x 2549 columns]"
      ]
     },
     "execution_count": 4,
     "metadata": {},
     "output_type": "execute_result"
    }
   ],
   "source": [
    "df.head()"
   ]
  },
  {
   "cell_type": "code",
   "execution_count": 5,
   "metadata": {
    "execution": {
     "iopub.execute_input": "2020-10-02T16:31:54.487700Z",
     "iopub.status.busy": "2020-10-02T16:31:54.486809Z",
     "iopub.status.idle": "2020-10-02T16:31:54.527732Z",
     "shell.execute_reply": "2020-10-02T16:31:54.526808Z"
    },
    "papermill": {
     "duration": 0.072704,
     "end_time": "2020-10-02T16:31:54.527903",
     "exception": false,
     "start_time": "2020-10-02T16:31:54.455199",
     "status": "completed"
    },
    "tags": []
   },
   "outputs": [
    {
     "data": {
      "text/plain": [
       "False"
      ]
     },
     "execution_count": 5,
     "metadata": {},
     "output_type": "execute_result"
    }
   ],
   "source": [
    "df.isnull().sum().any()"
   ]
  },
  {
   "cell_type": "code",
   "execution_count": 6,
   "metadata": {
    "execution": {
     "iopub.execute_input": "2020-10-02T16:31:54.591622Z",
     "iopub.status.busy": "2020-10-02T16:31:54.590612Z",
     "iopub.status.idle": "2020-10-02T16:31:54.594611Z",
     "shell.execute_reply": "2020-10-02T16:31:54.593817Z"
    },
    "papermill": {
     "duration": 0.039854,
     "end_time": "2020-10-02T16:31:54.594753",
     "exception": false,
     "start_time": "2020-10-02T16:31:54.554899",
     "status": "completed"
    },
    "tags": []
   },
   "outputs": [],
   "source": [
    "y = df['label']"
   ]
  },
  {
   "cell_type": "code",
   "execution_count": 7,
   "metadata": {
    "execution": {
     "iopub.execute_input": "2020-10-02T16:31:54.654774Z",
     "iopub.status.busy": "2020-10-02T16:31:54.653926Z",
     "iopub.status.idle": "2020-10-02T16:31:55.759409Z",
     "shell.execute_reply": "2020-10-02T16:31:55.758557Z"
    },
    "papermill": {
     "duration": 1.137703,
     "end_time": "2020-10-02T16:31:55.759559",
     "exception": false,
     "start_time": "2020-10-02T16:31:54.621856",
     "status": "completed"
    },
    "tags": []
   },
   "outputs": [],
   "source": [
    "from sklearn.preprocessing import StandardScaler, LabelEncoder"
   ]
  },
  {
   "cell_type": "code",
   "execution_count": 8,
   "metadata": {
    "execution": {
     "iopub.execute_input": "2020-10-02T16:31:55.819824Z",
     "iopub.status.busy": "2020-10-02T16:31:55.819031Z",
     "iopub.status.idle": "2020-10-02T16:31:55.822561Z",
     "shell.execute_reply": "2020-10-02T16:31:55.821929Z"
    },
    "papermill": {
     "duration": 0.036861,
     "end_time": "2020-10-02T16:31:55.822694",
     "exception": false,
     "start_time": "2020-10-02T16:31:55.785833",
     "status": "completed"
    },
    "tags": []
   },
   "outputs": [],
   "source": [
    "le = LabelEncoder()\n",
    "y = le.fit_transform(y)"
   ]
  },
  {
   "cell_type": "code",
   "execution_count": 9,
   "metadata": {
    "execution": {
     "iopub.execute_input": "2020-10-02T16:31:55.886696Z",
     "iopub.status.busy": "2020-10-02T16:31:55.885841Z",
     "iopub.status.idle": "2020-10-02T16:31:57.345368Z",
     "shell.execute_reply": "2020-10-02T16:31:57.344658Z"
    },
    "papermill": {
     "duration": 1.496347,
     "end_time": "2020-10-02T16:31:57.345515",
     "exception": false,
     "start_time": "2020-10-02T16:31:55.849168",
     "status": "completed"
    },
    "tags": []
   },
   "outputs": [],
   "source": [
    "import matplotlib.pyplot as plt\n",
    "import seaborn as sns\n",
    "from sklearn.pipeline import Pipeline\n",
    "from sklearn.ensemble import RandomForestClassifier, VotingClassifier\n",
    "import xgboost as xgb\n",
    "from sklearn.linear_model import LogisticRegression\n",
    "from sklearn.naive_bayes import GaussianNB\n",
    "from sklearn.svm import LinearSVC\n",
    "from sklearn.metrics import accuracy_score, confusion_matrix, precision_score, recall_score, classification_report\n",
    "from sklearn.model_selection import cross_val_score, train_test_split, GridSearchCV\n",
    "from sklearn.decomposition import PCA"
   ]
  },
  {
   "cell_type": "code",
   "execution_count": 10,
   "metadata": {
    "execution": {
     "iopub.execute_input": "2020-10-02T16:31:57.447534Z",
     "iopub.status.busy": "2020-10-02T16:31:57.446533Z",
     "iopub.status.idle": "2020-10-02T16:31:57.451600Z",
     "shell.execute_reply": "2020-10-02T16:31:57.452170Z"
    },
    "papermill": {
     "duration": 0.07986,
     "end_time": "2020-10-02T16:31:57.452393",
     "exception": false,
     "start_time": "2020-10-02T16:31:57.372533",
     "status": "completed"
    },
    "tags": []
   },
   "outputs": [],
   "source": [
    "df.drop('label', axis = 1, inplace=True)"
   ]
  },
  {
   "cell_type": "code",
   "execution_count": 11,
   "metadata": {
    "execution": {
     "iopub.execute_input": "2020-10-02T16:31:57.513294Z",
     "iopub.status.busy": "2020-10-02T16:31:57.512515Z",
     "iopub.status.idle": "2020-10-02T16:31:57.516070Z",
     "shell.execute_reply": "2020-10-02T16:31:57.515322Z"
    },
    "papermill": {
     "duration": 0.036278,
     "end_time": "2020-10-02T16:31:57.516215",
     "exception": false,
     "start_time": "2020-10-02T16:31:57.479937",
     "status": "completed"
    },
    "tags": []
   },
   "outputs": [],
   "source": [
    "X = df"
   ]
  },
  {
   "cell_type": "code",
   "execution_count": 12,
   "metadata": {
    "execution": {
     "iopub.execute_input": "2020-10-02T16:31:57.579046Z",
     "iopub.status.busy": "2020-10-02T16:31:57.578183Z",
     "iopub.status.idle": "2020-10-02T16:32:27.364040Z",
     "shell.execute_reply": "2020-10-02T16:32:27.363413Z"
    },
    "papermill": {
     "duration": 29.819262,
     "end_time": "2020-10-02T16:32:27.364173",
     "exception": false,
     "start_time": "2020-10-02T16:31:57.544911",
     "status": "completed"
    },
    "tags": []
   },
   "outputs": [
    {
     "data": {
      "text/html": [
       "<div>\n",
       "<style scoped>\n",
       "    .dataframe tbody tr th:only-of-type {\n",
       "        vertical-align: middle;\n",
       "    }\n",
       "\n",
       "    .dataframe tbody tr th {\n",
       "        vertical-align: top;\n",
       "    }\n",
       "\n",
       "    .dataframe thead th {\n",
       "        text-align: right;\n",
       "    }\n",
       "</style>\n",
       "<table border=\"1\" class=\"dataframe\">\n",
       "  <thead>\n",
       "    <tr style=\"text-align: right;\">\n",
       "      <th></th>\n",
       "      <th># mean_0_a</th>\n",
       "      <th>mean_1_a</th>\n",
       "      <th>mean_2_a</th>\n",
       "      <th>mean_3_a</th>\n",
       "      <th>mean_4_a</th>\n",
       "      <th>mean_d_0_a</th>\n",
       "      <th>mean_d_1_a</th>\n",
       "      <th>mean_d_2_a</th>\n",
       "      <th>mean_d_3_a</th>\n",
       "      <th>mean_d_4_a</th>\n",
       "      <th>...</th>\n",
       "      <th>fft_740_b</th>\n",
       "      <th>fft_741_b</th>\n",
       "      <th>fft_742_b</th>\n",
       "      <th>fft_743_b</th>\n",
       "      <th>fft_744_b</th>\n",
       "      <th>fft_745_b</th>\n",
       "      <th>fft_746_b</th>\n",
       "      <th>fft_747_b</th>\n",
       "      <th>fft_748_b</th>\n",
       "      <th>fft_749_b</th>\n",
       "    </tr>\n",
       "  </thead>\n",
       "  <tbody>\n",
       "    <tr>\n",
       "      <th># mean_0_a</th>\n",
       "      <td>1.000000</td>\n",
       "      <td>0.176578</td>\n",
       "      <td>0.429810</td>\n",
       "      <td>0.582697</td>\n",
       "      <td>0.178432</td>\n",
       "      <td>-0.000665</td>\n",
       "      <td>0.105961</td>\n",
       "      <td>-0.061046</td>\n",
       "      <td>0.135370</td>\n",
       "      <td>0.008472</td>\n",
       "      <td>...</td>\n",
       "      <td>0.301672</td>\n",
       "      <td>-0.245671</td>\n",
       "      <td>0.204764</td>\n",
       "      <td>0.204764</td>\n",
       "      <td>-0.245671</td>\n",
       "      <td>0.268983</td>\n",
       "      <td>-0.220566</td>\n",
       "      <td>0.196653</td>\n",
       "      <td>0.196653</td>\n",
       "      <td>-0.220566</td>\n",
       "    </tr>\n",
       "    <tr>\n",
       "      <th>mean_1_a</th>\n",
       "      <td>0.176578</td>\n",
       "      <td>1.000000</td>\n",
       "      <td>-0.007202</td>\n",
       "      <td>0.571530</td>\n",
       "      <td>0.385041</td>\n",
       "      <td>-0.088608</td>\n",
       "      <td>-0.007586</td>\n",
       "      <td>-0.050463</td>\n",
       "      <td>-0.119391</td>\n",
       "      <td>-0.017197</td>\n",
       "      <td>...</td>\n",
       "      <td>0.130717</td>\n",
       "      <td>-0.047208</td>\n",
       "      <td>0.002549</td>\n",
       "      <td>0.002549</td>\n",
       "      <td>-0.047208</td>\n",
       "      <td>0.153244</td>\n",
       "      <td>-0.096173</td>\n",
       "      <td>0.069532</td>\n",
       "      <td>0.069532</td>\n",
       "      <td>-0.096173</td>\n",
       "    </tr>\n",
       "    <tr>\n",
       "      <th>mean_2_a</th>\n",
       "      <td>0.429810</td>\n",
       "      <td>-0.007202</td>\n",
       "      <td>1.000000</td>\n",
       "      <td>0.081567</td>\n",
       "      <td>-0.095696</td>\n",
       "      <td>0.015122</td>\n",
       "      <td>0.014605</td>\n",
       "      <td>-0.004320</td>\n",
       "      <td>0.055625</td>\n",
       "      <td>-0.003564</td>\n",
       "      <td>...</td>\n",
       "      <td>0.699461</td>\n",
       "      <td>-0.742275</td>\n",
       "      <td>0.622567</td>\n",
       "      <td>0.622567</td>\n",
       "      <td>-0.742275</td>\n",
       "      <td>0.674195</td>\n",
       "      <td>-0.728296</td>\n",
       "      <td>0.565044</td>\n",
       "      <td>0.565044</td>\n",
       "      <td>-0.728296</td>\n",
       "    </tr>\n",
       "    <tr>\n",
       "      <th>mean_3_a</th>\n",
       "      <td>0.582697</td>\n",
       "      <td>0.571530</td>\n",
       "      <td>0.081567</td>\n",
       "      <td>1.000000</td>\n",
       "      <td>0.220842</td>\n",
       "      <td>-0.117748</td>\n",
       "      <td>0.124462</td>\n",
       "      <td>-0.175592</td>\n",
       "      <td>-0.001782</td>\n",
       "      <td>0.017110</td>\n",
       "      <td>...</td>\n",
       "      <td>0.133720</td>\n",
       "      <td>-0.067460</td>\n",
       "      <td>0.048202</td>\n",
       "      <td>0.048202</td>\n",
       "      <td>-0.067460</td>\n",
       "      <td>0.103294</td>\n",
       "      <td>-0.061376</td>\n",
       "      <td>0.051216</td>\n",
       "      <td>0.051216</td>\n",
       "      <td>-0.061376</td>\n",
       "    </tr>\n",
       "    <tr>\n",
       "      <th>mean_4_a</th>\n",
       "      <td>0.178432</td>\n",
       "      <td>0.385041</td>\n",
       "      <td>-0.095696</td>\n",
       "      <td>0.220842</td>\n",
       "      <td>1.000000</td>\n",
       "      <td>-0.017196</td>\n",
       "      <td>-0.007570</td>\n",
       "      <td>0.025546</td>\n",
       "      <td>-0.033443</td>\n",
       "      <td>-0.020361</td>\n",
       "      <td>...</td>\n",
       "      <td>-0.043602</td>\n",
       "      <td>0.069458</td>\n",
       "      <td>-0.090163</td>\n",
       "      <td>-0.090163</td>\n",
       "      <td>0.069458</td>\n",
       "      <td>-0.039620</td>\n",
       "      <td>0.056452</td>\n",
       "      <td>-0.016933</td>\n",
       "      <td>-0.016933</td>\n",
       "      <td>0.056452</td>\n",
       "    </tr>\n",
       "    <tr>\n",
       "      <th>...</th>\n",
       "      <td>...</td>\n",
       "      <td>...</td>\n",
       "      <td>...</td>\n",
       "      <td>...</td>\n",
       "      <td>...</td>\n",
       "      <td>...</td>\n",
       "      <td>...</td>\n",
       "      <td>...</td>\n",
       "      <td>...</td>\n",
       "      <td>...</td>\n",
       "      <td>...</td>\n",
       "      <td>...</td>\n",
       "      <td>...</td>\n",
       "      <td>...</td>\n",
       "      <td>...</td>\n",
       "      <td>...</td>\n",
       "      <td>...</td>\n",
       "      <td>...</td>\n",
       "      <td>...</td>\n",
       "      <td>...</td>\n",
       "      <td>...</td>\n",
       "    </tr>\n",
       "    <tr>\n",
       "      <th>fft_745_b</th>\n",
       "      <td>0.268983</td>\n",
       "      <td>0.153244</td>\n",
       "      <td>0.674195</td>\n",
       "      <td>0.103294</td>\n",
       "      <td>-0.039620</td>\n",
       "      <td>0.024944</td>\n",
       "      <td>-0.043387</td>\n",
       "      <td>0.098389</td>\n",
       "      <td>-0.022019</td>\n",
       "      <td>-0.003329</td>\n",
       "      <td>...</td>\n",
       "      <td>0.458558</td>\n",
       "      <td>-0.431711</td>\n",
       "      <td>0.415781</td>\n",
       "      <td>0.415781</td>\n",
       "      <td>-0.431711</td>\n",
       "      <td>1.000000</td>\n",
       "      <td>-0.938696</td>\n",
       "      <td>0.834622</td>\n",
       "      <td>0.834622</td>\n",
       "      <td>-0.938696</td>\n",
       "    </tr>\n",
       "    <tr>\n",
       "      <th>fft_746_b</th>\n",
       "      <td>-0.220566</td>\n",
       "      <td>-0.096173</td>\n",
       "      <td>-0.728296</td>\n",
       "      <td>-0.061376</td>\n",
       "      <td>0.056452</td>\n",
       "      <td>0.002976</td>\n",
       "      <td>-0.001477</td>\n",
       "      <td>-0.061713</td>\n",
       "      <td>0.005671</td>\n",
       "      <td>-0.005395</td>\n",
       "      <td>...</td>\n",
       "      <td>-0.493145</td>\n",
       "      <td>0.531019</td>\n",
       "      <td>-0.459876</td>\n",
       "      <td>-0.459876</td>\n",
       "      <td>0.531019</td>\n",
       "      <td>-0.938696</td>\n",
       "      <td>1.000000</td>\n",
       "      <td>-0.815108</td>\n",
       "      <td>-0.815108</td>\n",
       "      <td>1.000000</td>\n",
       "    </tr>\n",
       "    <tr>\n",
       "      <th>fft_747_b</th>\n",
       "      <td>0.196653</td>\n",
       "      <td>0.069532</td>\n",
       "      <td>0.565044</td>\n",
       "      <td>0.051216</td>\n",
       "      <td>-0.016933</td>\n",
       "      <td>-0.017169</td>\n",
       "      <td>0.003350</td>\n",
       "      <td>0.149472</td>\n",
       "      <td>-0.040408</td>\n",
       "      <td>0.003422</td>\n",
       "      <td>...</td>\n",
       "      <td>0.375438</td>\n",
       "      <td>-0.355117</td>\n",
       "      <td>0.499272</td>\n",
       "      <td>0.499272</td>\n",
       "      <td>-0.355117</td>\n",
       "      <td>0.834622</td>\n",
       "      <td>-0.815108</td>\n",
       "      <td>1.000000</td>\n",
       "      <td>1.000000</td>\n",
       "      <td>-0.815108</td>\n",
       "    </tr>\n",
       "    <tr>\n",
       "      <th>fft_748_b</th>\n",
       "      <td>0.196653</td>\n",
       "      <td>0.069532</td>\n",
       "      <td>0.565044</td>\n",
       "      <td>0.051216</td>\n",
       "      <td>-0.016933</td>\n",
       "      <td>-0.017169</td>\n",
       "      <td>0.003350</td>\n",
       "      <td>0.149472</td>\n",
       "      <td>-0.040408</td>\n",
       "      <td>0.003422</td>\n",
       "      <td>...</td>\n",
       "      <td>0.375438</td>\n",
       "      <td>-0.355117</td>\n",
       "      <td>0.499272</td>\n",
       "      <td>0.499272</td>\n",
       "      <td>-0.355117</td>\n",
       "      <td>0.834622</td>\n",
       "      <td>-0.815108</td>\n",
       "      <td>1.000000</td>\n",
       "      <td>1.000000</td>\n",
       "      <td>-0.815108</td>\n",
       "    </tr>\n",
       "    <tr>\n",
       "      <th>fft_749_b</th>\n",
       "      <td>-0.220566</td>\n",
       "      <td>-0.096173</td>\n",
       "      <td>-0.728296</td>\n",
       "      <td>-0.061376</td>\n",
       "      <td>0.056452</td>\n",
       "      <td>0.002976</td>\n",
       "      <td>-0.001477</td>\n",
       "      <td>-0.061713</td>\n",
       "      <td>0.005671</td>\n",
       "      <td>-0.005395</td>\n",
       "      <td>...</td>\n",
       "      <td>-0.493145</td>\n",
       "      <td>0.531019</td>\n",
       "      <td>-0.459876</td>\n",
       "      <td>-0.459876</td>\n",
       "      <td>0.531019</td>\n",
       "      <td>-0.938696</td>\n",
       "      <td>1.000000</td>\n",
       "      <td>-0.815108</td>\n",
       "      <td>-0.815108</td>\n",
       "      <td>1.000000</td>\n",
       "    </tr>\n",
       "  </tbody>\n",
       "</table>\n",
       "<p>2548 rows × 2548 columns</p>\n",
       "</div>"
      ],
      "text/plain": [
       "            # mean_0_a  mean_1_a  mean_2_a  mean_3_a  mean_4_a  mean_d_0_a  \\\n",
       "# mean_0_a    1.000000  0.176578  0.429810  0.582697  0.178432   -0.000665   \n",
       "mean_1_a      0.176578  1.000000 -0.007202  0.571530  0.385041   -0.088608   \n",
       "mean_2_a      0.429810 -0.007202  1.000000  0.081567 -0.095696    0.015122   \n",
       "mean_3_a      0.582697  0.571530  0.081567  1.000000  0.220842   -0.117748   \n",
       "mean_4_a      0.178432  0.385041 -0.095696  0.220842  1.000000   -0.017196   \n",
       "...                ...       ...       ...       ...       ...         ...   \n",
       "fft_745_b     0.268983  0.153244  0.674195  0.103294 -0.039620    0.024944   \n",
       "fft_746_b    -0.220566 -0.096173 -0.728296 -0.061376  0.056452    0.002976   \n",
       "fft_747_b     0.196653  0.069532  0.565044  0.051216 -0.016933   -0.017169   \n",
       "fft_748_b     0.196653  0.069532  0.565044  0.051216 -0.016933   -0.017169   \n",
       "fft_749_b    -0.220566 -0.096173 -0.728296 -0.061376  0.056452    0.002976   \n",
       "\n",
       "            mean_d_1_a  mean_d_2_a  mean_d_3_a  mean_d_4_a  ...  fft_740_b  \\\n",
       "# mean_0_a    0.105961   -0.061046    0.135370    0.008472  ...   0.301672   \n",
       "mean_1_a     -0.007586   -0.050463   -0.119391   -0.017197  ...   0.130717   \n",
       "mean_2_a      0.014605   -0.004320    0.055625   -0.003564  ...   0.699461   \n",
       "mean_3_a      0.124462   -0.175592   -0.001782    0.017110  ...   0.133720   \n",
       "mean_4_a     -0.007570    0.025546   -0.033443   -0.020361  ...  -0.043602   \n",
       "...                ...         ...         ...         ...  ...        ...   \n",
       "fft_745_b    -0.043387    0.098389   -0.022019   -0.003329  ...   0.458558   \n",
       "fft_746_b    -0.001477   -0.061713    0.005671   -0.005395  ...  -0.493145   \n",
       "fft_747_b     0.003350    0.149472   -0.040408    0.003422  ...   0.375438   \n",
       "fft_748_b     0.003350    0.149472   -0.040408    0.003422  ...   0.375438   \n",
       "fft_749_b    -0.001477   -0.061713    0.005671   -0.005395  ...  -0.493145   \n",
       "\n",
       "            fft_741_b  fft_742_b  fft_743_b  fft_744_b  fft_745_b  fft_746_b  \\\n",
       "# mean_0_a  -0.245671   0.204764   0.204764  -0.245671   0.268983  -0.220566   \n",
       "mean_1_a    -0.047208   0.002549   0.002549  -0.047208   0.153244  -0.096173   \n",
       "mean_2_a    -0.742275   0.622567   0.622567  -0.742275   0.674195  -0.728296   \n",
       "mean_3_a    -0.067460   0.048202   0.048202  -0.067460   0.103294  -0.061376   \n",
       "mean_4_a     0.069458  -0.090163  -0.090163   0.069458  -0.039620   0.056452   \n",
       "...               ...        ...        ...        ...        ...        ...   \n",
       "fft_745_b   -0.431711   0.415781   0.415781  -0.431711   1.000000  -0.938696   \n",
       "fft_746_b    0.531019  -0.459876  -0.459876   0.531019  -0.938696   1.000000   \n",
       "fft_747_b   -0.355117   0.499272   0.499272  -0.355117   0.834622  -0.815108   \n",
       "fft_748_b   -0.355117   0.499272   0.499272  -0.355117   0.834622  -0.815108   \n",
       "fft_749_b    0.531019  -0.459876  -0.459876   0.531019  -0.938696   1.000000   \n",
       "\n",
       "            fft_747_b  fft_748_b  fft_749_b  \n",
       "# mean_0_a   0.196653   0.196653  -0.220566  \n",
       "mean_1_a     0.069532   0.069532  -0.096173  \n",
       "mean_2_a     0.565044   0.565044  -0.728296  \n",
       "mean_3_a     0.051216   0.051216  -0.061376  \n",
       "mean_4_a    -0.016933  -0.016933   0.056452  \n",
       "...               ...        ...        ...  \n",
       "fft_745_b    0.834622   0.834622  -0.938696  \n",
       "fft_746_b   -0.815108  -0.815108   1.000000  \n",
       "fft_747_b    1.000000   1.000000  -0.815108  \n",
       "fft_748_b    1.000000   1.000000  -0.815108  \n",
       "fft_749_b   -0.815108  -0.815108   1.000000  \n",
       "\n",
       "[2548 rows x 2548 columns]"
      ]
     },
     "execution_count": 12,
     "metadata": {},
     "output_type": "execute_result"
    }
   ],
   "source": [
    "#Using Correlation to remove features which are highly correlated\n",
    "correlated_features = set()\n",
    "correlation_matrix = X.corr()\n",
    "correlation_matrix\n",
    "\n"
   ]
  },
  {
   "cell_type": "code",
   "execution_count": 13,
   "metadata": {
    "execution": {
     "iopub.execute_input": "2020-10-02T16:32:27.480578Z",
     "iopub.status.busy": "2020-10-02T16:32:27.454679Z",
     "iopub.status.idle": "2020-10-02T16:34:27.968391Z",
     "shell.execute_reply": "2020-10-02T16:34:27.969113Z"
    },
    "papermill": {
     "duration": 120.57436,
     "end_time": "2020-10-02T16:34:27.969324",
     "exception": false,
     "start_time": "2020-10-02T16:32:27.394964",
     "status": "completed"
    },
    "tags": []
   },
   "outputs": [
    {
     "name": "stdout",
     "output_type": "stream",
     "text": [
      "1916\n",
      "{'fft_56_b', 'fft_685_b', 'fft_571_a', 'covmat_103_a', 'min_q_23_b', 'fft_730_b', 'fft_483_b', 'fft_55_a', 'covmat_1_b', 'fft_136_a', 'fft_444_b', 'fft_501_b', 'covmat_25_a', 'fft_87_a', 'fft_111_a', 'min_q_8_b', 'fft_281_b', 'fft_481_b', 'fft_327_a', 'fft_554_a', 'correlate_6_b', 'covmat_97_a', 'fft_260_a', 'fft_442_a', 'fft_459_a', 'mean_d_23_b', 'fft_591_b', 'fft_695_b', 'fft_171_a', 'fft_666_b', 'covmat_89_b', 'correlate_7_b', 'fft_173_a', 'fft_622_b', 'fft_728_a', 'fft_145_b', 'fft_673_b', 'fft_498_b', 'fft_651_a', 'fft_441_b', 'fft_104_b', 'fft_129_b', 'correlate_25_b', 'fft_357_a', 'fft_659_a', 'fft_18_b', 'min_3_b', 'fft_312_b', 'fft_263_a', 'fft_430_b', 'fft_553_a', 'stddev_2_b', 'fft_267_b', 'fft_321_a', 'fft_674_a', 'fft_27_b', 'fft_200_b', 'covmat_50_b', 'fft_385_a', 'fft_176_b', 'fft_363_a', 'fft_103_b', 'fft_683_a', 'fft_227_b', 'fft_394_b', 'fft_575_a', 'fft_629_b', 'fft_372_a', 'fft_488_b', 'fft_157_a', 'fft_53_b', 'fft_554_b', 'fft_288_b', 'fft_333_a', 'fft_663_a', 'covmat_52_b', 'fft_40_a', 'covmat_99_b', 'fft_465_b', 'covmat_137_a', 'correlate_31_a', 'fft_151_b', 'fft_460_a', 'fft_553_b', 'fft_747_a', 'fft_392_b', 'fft_575_b', 'fft_534_a', 'correlate_4_a', 'fft_589_b', 'correlate_25_a', 'min_q_12_a', 'fft_164_b', 'fft_458_b', 'covmat_78_b', 'fft_42_b', 'max_q_43_b', 'fft_723_b', 'covmat_89_a', 'fft_235_a', 'fft_231_b', 'fft_406_b', 'fft_234_a', 'fft_175_b', 'max_q_7_b', 'fft_749_b', 'fft_232_b', 'fft_279_b', 'fft_106_a', 'fft_202_a', 'correlate_54_b', 'correlate_74_b', 'fft_236_b', 'covmat_123_b', 'fft_19_b', 'fft_421_a', 'fft_189_b', 'fft_270_b', 'fft_112_b', 'fft_313_b', 'fft_59_a', 'fft_614_b', 'fft_16_a', 'fft_366_b', 'eigen_1_b', 'fft_138_a', 'fft_340_a', 'correlate_45_b', 'fft_385_b', 'fft_80_b', 'fft_14_b', 'fft_629_a', 'covmat_85_a', 'fft_276_b', 'fft_315_b', 'fft_607_a', 'fft_12_b', 'fft_217_a', 'fft_570_a', 'covmat_138_b', 'fft_621_a', 'covmat_103_b', 'fft_405_a', 'fft_182_a', 'correlate_69_a', 'fft_547_a', 'fft_688_a', 'fft_25_b', 'min_q_2_a', 'max_q_12_b', 'fft_116_b', 'fft_318_b', 'fft_636_b', 'min_q_24_b', 'fft_290_b', 'fft_604_a', 'covmat_110_a', 'covmat_115_b', 'mean_d_17_b', 'fft_360_a', 'fft_326_a', 'eigen_3_a', 'min_q_20_b', 'fft_698_a', 'mean_d_48_b', 'fft_737_b', 'fft_70_b', 'fft_242_b', 'correlate_46_b', 'fft_164_a', 'correlate_12_b', 'fft_181_a', 'correlate_61_a', 'fft_71_a', 'covmat_141_b', 'fft_22_a', 'fft_549_a', 'fft_330_b', 'covmat_73_a', 'fft_635_b', 'fft_211_b', 'fft_49_b', 'covmat_127_a', 'covmat_99_a', 'fft_519_a', 'covmat_63_a', 'eigen_6_b', 'fft_261_b', 'fft_46_a', 'correlate_71_b', 'fft_711_b', 'fft_484_a', 'min_q_21_b', 'fft_391_b', 'fft_423_b', 'fft_669_b', 'covmat_61_b', 'min_q_2_b', 'fft_376_a', 'min_q_38_a', 'fft_332_a', 'fft_547_b', 'fft_443_a', 'correlate_26_a', 'fft_85_a', 'fft_576_b', 'eigen_4_a', 'fft_413_a', 'fft_262_b', 'fft_16_b', 'fft_526_b', 'fft_501_a', 'fft_569_b', 'fft_244_b', 'fft_36_b', 'fft_471_b', 'max_q_0_b', 'covmat_0_b', 'fft_159_a', 'fft_314_a', 'mean_d_17_a', 'fft_546_a', 'fft_637_b', 'fft_155_a', 'fft_696_a', 'fft_560_a', 'fft_9_b', 'fft_17_a', 'fft_516_b', 'fft_140_b', 'fft_677_a', 'fft_373_b', 'fft_475_b', 'fft_198_a', 'fft_121_a', 'fft_145_a', 'covmat_128_b', 'fft_638_b', 'mean_d_22_b', 'fft_99_a', 'fft_148_a', 'fft_76_a', 'fft_618_b', 'fft_259_a', 'fft_356_a', 'fft_590_a', 'correlate_8_b', 'correlate_59_a', 'fft_700_b', 'min_2_b', 'fft_93_a', 'fft_592_a', 'fft_438_a', 'fft_163_a', 'fft_613_b', 'fft_400_b', 'fft_654_a', 'eigen_2_a', 'max_q_2_b', 'fft_213_b', 'fft_172_a', 'correlate_31_b', 'fft_286_a', 'fft_40_b', 'fft_588_a', 'fft_259_b', 'fft_133_b', 'correlate_10_b', 'fft_324_b', 'fft_194_b', 'fft_586_b', 'fft_382_a', 'fft_546_b', 'covmat_84_a', 'fft_211_a', 'covmat_77_a', 'fft_31_a', 'fft_93_b', 'fft_506_a', 'fft_150_a', 'correlate_21_b', 'covmat_112_a', 'fft_573_a', 'covmat_124_a', 'fft_522_a', 'fft_53_a', 'fft_337_b', 'fft_55_b', 'fft_323_b', 'covmat_133_a', 'correlate_6_a', 'fft_90_a', 'fft_701_a', 'fft_335_a', 'fft_235_b', 'fft_446_b', 'fft_150_b', 'fft_537_a', 'fft_465_a', 'fft_172_b', 'covmat_24_b', 'fft_558_b', 'fft_128_b', 'fft_412_b', 'fft_98_a', 'covmat_51_b', 'fft_366_a', 'covmat_125_a', 'min_q_26_b', 'fft_68_b', 'fft_485_b', 'fft_316_b', 'fft_443_b', 'fft_354_a', 'fft_285_b', 'fft_721_b', 'fft_31_b', 'fft_296_a', 'fft_332_b', 'fft_633_b', 'fft_156_a', 'fft_722_a', 'fft_719_a', 'fft_147_b', 'fft_431_b', 'min_q_4_b', 'fft_604_b', 'fft_21_b', 'mean_d_9_b', 'fft_369_b', 'fft_681_a', 'fft_50_b', 'fft_702_a', 'correlate_42_b', 'fft_697_a', 'fft_260_b', 'max_q_8_b', 'fft_71_b', 'correlate_9_a', 'fft_436_a', 'fft_299_b', 'fft_510_b', 'eigen_5_b', 'fft_130_a', 'correlate_20_b', 'fft_174_a', 'fft_306_b', 'fft_283_a', 'fft_538_b', 'moments_14_b', 'fft_273_a', 'fft_416_a', 'fft_555_b', 'correlate_13_b', 'fft_739_a', 'fft_350_a', 'fft_742_a', 'covmat_134_b', 'fft_583_b', 'fft_319_b', 'fft_607_b', 'fft_618_a', 'eigen_2_b', 'covmat_38_a', 'fft_94_a', 'fft_229_b', 'fft_708_b', 'fft_548_b', 'fft_88_b', 'fft_358_b', 'fft_123_b', 'fft_341_a', 'fft_516_a', 'fft_740_b', 'fft_289_b', 'fft_271_a', 'fft_134_a', 'fft_576_a', 'moments_18_a', 'fft_38_b', 'fft_424_b', 'fft_461_b', 'covmat_86_b', 'covmat_97_b', 'fft_237_b', 'covmat_98_b', 'fft_709_a', 'fft_302_a', 'min_0_b', 'fft_369_a', 'fft_686_a', 'fft_37_b', 'fft_74_b', 'correlate_39_b', 'fft_60_b', 'fft_602_b', 'fft_529_b', 'covmat_72_b', 'fft_251_b', 'fft_109_b', 'fft_742_b', 'fft_220_a', 'fft_597_b', 'moments_8_a', 'fft_594_a', 'correlate_58_a', 'correlate_73_a', 'fft_467_a', 'covmat_132_a', 'fft_307_b', 'fft_325_a', 'fft_603_a', 'fft_256_a', 'fft_319_a', 'fft_565_b', 'fft_642_b', 'fft_158_b', 'fft_677_b', 'fft_685_a', 'fft_301_a', 'fft_528_a', 'fft_49_a', 'correlate_37_b', 'correlate_0_b', 'fft_411_b', 'fft_565_a', 'fft_154_b', 'covmat_55_b', 'fft_748_a', 'correlate_24_a', 'fft_250_a', 'fft_601_a', 'fft_89_b', 'fft_243_a', 'fft_521_a', 'fft_204_a', 'fft_710_a', 'fft_716_b', 'fft_384_b', 'fft_530_b', 'fft_481_a', 'fft_550_a', 'fft_219_b', 'max_q_22_b', 'moments_13_b', 'fft_339_b', 'max_q_41_b', 'covmat_13_b', 'fft_616_b', 'fft_494_b', 'max_q_1_b', 'fft_743_a', 'fft_463_a', 'fft_530_a', 'fft_339_a', 'fft_623_a', 'covmat_62_a', 'fft_730_a', 'fft_284_b', 'fft_710_b', 'fft_191_b', 'covmat_30_b', 'fft_441_a', 'fft_329_a', 'eigen_5_a', 'fft_459_b', 'fft_201_b', 'fft_724_a', 'fft_707_a', 'fft_168_b', 'fft_428_b', 'correlate_65_b', 'fft_705_b', 'max_q_12_a', 'fft_95_b', 'fft_402_b', 'fft_97_b', 'fft_416_b', 'fft_362_a', 'fft_427_a', 'fft_51_b', 'correlate_41_a', 'correlate_33_b', 'fft_34_a', 'fft_368_a', 'fft_146_b', 'fft_374_a', 'fft_687_b', 'fft_703_a', 'fft_218_b', 'correlate_16_b', 'fft_662_a', 'fft_248_b', 'fft_249_a', 'fft_140_a', 'fft_291_b', 'covmat_78_a', 'correlate_43_b', 'fft_187_b', 'fft_361_a', 'fft_467_b', 'fft_81_a', 'fft_67_b', 'fft_338_b', 'correlate_57_b', 'correlate_42_a', 'fft_700_a', 'fft_642_a', 'fft_96_b', 'covmat_44_b', 'fft_426_b', 'fft_676_b', 'fft_383_b', 'max_q_21_b', 'correlate_5_a', 'fft_738_a', 'fft_153_b', 'fft_326_b', 'fft_100_a', 'covmat_112_b', 'mean_d_31_b', 'fft_453_b', 'fft_521_b', 'fft_746_b', 'covmat_142_a', 'covmat_126_b', 'fft_449_a', 'fft_264_a', 'fft_686_b', 'fft_647_b', 'correlate_38_b', 'fft_248_a', 'fft_323_a', 'fft_216_a', 'covmat_135_b', 'fft_707_b', 'covmat_1_a', 'correlate_47_a', 'fft_208_a', 'fft_611_a', 'fft_472_a', 'fft_290_a', 'fft_719_b', 'fft_205_a', 'fft_577_b', 'fft_305_b', 'fft_82_a', 'fft_80_a', 'fft_407_b', 'fft_282_b', 'fft_377_a', 'fft_717_a', 'fft_584_a', 'covmat_37_b', 'fft_327_b', 'fft_34_b', 'fft_157_b', 'min_q_6_b', 'fft_668_b', 'fft_234_b', 'fft_294_a', 'fft_536_b', 'covmat_73_b', 'fft_178_b', 'fft_439_a', 'fft_263_b', 'fft_610_b', 'covmat_12_a', 'fft_396_b', 'covmat_140_b', 'fft_652_b', 'fft_664_b', 'fft_30_a', 'fft_315_a', 'fft_485_a', 'fft_543_a', 'fft_661_b', 'fft_696_b', 'correlate_66_b', 'fft_176_a', 'fft_401_a', 'fft_208_b', 'fft_608_a', 'fft_197_b', 'fft_637_a', 'fft_229_a', 'fft_615_b', 'moments_1_b', 'fft_261_a', 'fft_267_a', 'fft_392_a', 'fft_692_a', 'fft_579_b', 'fft_603_b', 'fft_268_b', 'fft_703_b', 'fft_70_a', 'correlate_62_b', 'fft_197_a', 'moments_15_b', 'fft_225_a', 'fft_669_a', 'fft_393_a', 'correlate_44_b', 'fft_301_b', 'fft_418_b', 'fft_372_b', 'min_q_38_b', 'fft_650_a', 'correlate_33_a', 'fft_254_b', 'fft_544_a', 'fft_233_a', 'eigen_0_b', 'fft_22_b', 'fft_490_b', 'fft_401_b', 'fft_58_a', 'fft_397_b', 'fft_398_b', 'fft_749_a', 'correlate_30_a', 'fft_670_b', 'fft_63_a', 'fft_656_a', 'covmat_129_b', 'fft_352_b', 'fft_363_b', 'fft_395_b', 'fft_365_a', 'fft_545_a', 'correlate_21_a', 'fft_375_a', 'fft_473_b', 'fft_2_b', 'correlate_28_a', 'fft_278_b', 'covmat_120_a', 'correlate_41_b', 'fft_524_a', 'fft_291_a', 'fft_185_b', 'fft_540_a', 'fft_346_b', 'fft_313_a', 'fft_142_a', 'fft_440_a', 'fft_422_a', 'fft_162_b', 'fft_410_a', 'fft_74_a', 'fft_160_b', 'fft_233_b', 'fft_474_b', 'fft_35_b', 'fft_738_b', 'fft_489_b', 'fft_487_a', 'fft_221_a', 'correlate_70_b', 'fft_478_a', 'fft_635_a', 'fft_490_a', 'fft_559_a', 'fft_691_a', 'fft_314_b', 'fft_399_a', 'fft_436_b', 'fft_644_b', 'correlate_63_b', 'correlate_27_b', 'fft_483_a', 'max_q_9_b', 'fft_183_a', 'covmat_88_b', 'fft_470_a', 'fft_701_b', 'fft_295_a', 'fft_518_a', 'covmat_38_b', 'correlate_22_b', 'fft_203_a', 'fft_558_a', 'fft_509_b', 'fft_32_b', 'fft_136_b', 'fft_240_b', 'fft_165_a', 'fft_671_a', 'fft_8_a', 'covmat_121_b', 'fft_266_b', 'covmat_140_a', 'fft_502_a', 'fft_122_b', 'covmat_87_a', 'fft_655_a', 'fft_309_b', 'fft_636_a', 'fft_210_b', 'covmat_108_a', 'fft_396_a', 'correlate_57_a', 'fft_422_b', 'mean_d_11_b', 'fft_623_b', 'fft_592_b', 'covmat_75_a', 'fft_78_a', 'fft_9_a', 'fft_96_a', 'fft_732_b', 'fft_269_b', 'fft_14_a', 'min_q_0_b', 'mean_d_12_b', 'min_q_18_b', 'fft_630_b', 'fft_580_b', 'fft_371_a', 'fft_236_a', 'fft_107_b', 'covmat_100_a', 'fft_292_a', 'fft_734_b', 'fft_26_a', 'fft_536_a', 'fft_426_a', 'fft_665_a', 'fft_350_b', 'correlate_65_a', 'fft_404_b', 'fft_243_b', 'fft_648_b', 'fft_508_b', 'fft_678_a', 'correlate_56_a', 'fft_479_b', 'fft_694_a', 'fft_238_a', 'moments_14_a', 'fft_308_a', 'fft_389_a', 'fft_15_a', 'moments_19_a', 'fft_351_b', 'fft_598_b', 'correlate_47_b', 'fft_255_a', 'covmat_95_b', 'fft_580_a', 'fft_446_a', 'fft_502_b', 'max_q_21_a', 'fft_514_b', 'max_q_46_b', 'fft_655_b', 'fft_614_a', 'fft_464_a', 'correlate_11_a', 'fft_348_b', 'fft_395_a', 'correlate_24_b', 'fft_127_b', 'fft_231_a', 'fft_508_a', 'covmat_91_b', 'covmat_101_a', 'fft_632_b', 'fft_716_a', 'fft_684_b', 'fft_520_b', 'fft_61_a', 'fft_152_b', 'fft_186_a', 'fft_435_a', 'fft_143_a', 'fft_132_b', 'fft_142_b', 'fft_303_b', 'fft_111_b', 'fft_212_b', 'covmat_123_a', 'fft_35_a', 'covmat_142_b', 'fft_450_a', 'fft_676_a', 'fft_345_a', 'fft_370_a', 'fft_568_a', 'fft_437_a', 'fft_59_b', 'fft_586_a', 'fft_257_a', 'fft_415_a', 'fft_321_b', 'fft_293_a', 'fft_32_a', 'fft_504_a', 'fft_162_a', 'fft_537_b', 'correlate_53_a', 'fft_324_a', 'fft_167_b', 'moments_1_a', 'fft_394_a', 'fft_179_a', 'covmat_74_b', 'fft_223_a', 'covmat_11_a', 'fft_468_a', 'fft_513_b', 'fft_76_b', 'fft_411_a', 'fft_386_b', 'fft_515_b', 'fft_296_b', 'fft_239_a', 'fft_91_a', 'fft_619_b', 'fft_78_b', 'fft_671_b', 'fft_91_b', 'fft_469_b', 'fft_184_b', 'fft_214_b', 'correlate_52_a', 'fft_745_a', 'fft_238_b', 'fft_610_a', 'fft_474_a', 'correlate_26_b', 'correlate_60_a', 'fft_155_b', 'fft_429_b', 'correlate_20_a', 'fft_217_b', 'fft_13_a', 'fft_367_a', 'fft_36_a', 'covmat_82_a', 'fft_678_b', 'mean_d_31_a', 'fft_189_a', 'correlate_14_b', 'fft_44_b', 'fft_739_b', 'mean_d_48_a', 'fft_311_a', 'fft_581_b', 'fft_118_a', 'fft_268_a', 'correlate_10_a', 'fft_634_b', 'fft_584_b', 'fft_597_a', 'correlate_73_b', 'fft_724_b', 'fft_258_a', 'fft_646_b', 'max_q_17_b', 'fft_418_a', 'fft_626_b', 'fft_461_a', 'correlate_3_b', 'fft_728_b', 'fft_564_a', 'fft_581_a', 'fft_338_a', 'correlate_22_a', 'fft_505_a', 'fft_609_a', 'covmat_127_b', 'fft_566_b', 'fft_591_a', 'fft_390_b', 'fft_692_b', 'fft_95_a', 'fft_507_b', 'fft_244_a', 'correlate_40_b', 'fft_215_b', 'fft_1_b', 'fft_54_a', 'fft_495_b', 'fft_644_a', 'fft_69_a', 'fft_486_a', 'fft_307_a', 'fft_605_b', 'fft_6_a', 'fft_353_a', 'fft_727_a', 'fft_166_a', 'fft_18_a', 'fft_331_a', 'fft_652_a', 'fft_368_b', 'max_q_33_b', 'fft_28_b', 'min_q_43_b', 'max_q_43_a', 'fft_284_a', 'fft_464_b', 'correlate_51_b', 'fft_735_b', 'fft_340_b', 'mean_d_32_a', 'fft_414_a', 'fft_325_b', 'fft_84_b', 'fft_241_a', 'covmat_143_b', 'fft_205_b', 'covmat_90_b', 'covmat_108_b', 'fft_61_b', 'moments_5_b', 'max_q_23_b', 'fft_359_b', 'fft_347_b', 'min_q_9_b', 'covmat_37_a', 'fft_120_a', 'fft_198_b', 'fft_196_b', 'fft_224_a', 'fft_20_a', 'covmat_115_a', 'fft_645_b', 'correlate_29_a', 'fft_182_b', 'fft_188_a', 'fft_336_b', 'fft_397_a', 'fft_66_b', 'fft_475_a', 'fft_664_a', 'covmat_24_a', 'fft_220_b', 'fft_670_a', 'mean_d_6_b', 'fft_192_b', 'fft_447_b', 'fft_137_a', 'covmat_20_b', 'fft_163_b', 'fft_343_b', 'fft_328_a', 'fft_578_a', 'mean_d_12_a', 'correlate_7_a', 'fft_100_b', 'fft_258_b', 'fft_718_b', 'fft_549_b', 'fft_566_a', 'fft_328_b', 'mean_2_b', 'fft_72_b', 'fft_421_b', 'fft_39_b', 'fft_63_b', 'fft_88_a', 'fft_8_b', 'fft_79_b', 'fft_643_a', 'mean_d_21_b', 'covmat_129_a', 'fft_283_b', 'fft_661_a', 'fft_273_b', 'min_d_3_a', 'fft_533_a', 'fft_170_b', 'fft_24_b', 'fft_183_b', 'correlate_38_a', 'fft_186_b', 'covmat_13_a', 'fft_451_a', 'fft_129_a', 'fft_101_a', 'fft_506_b', 'fft_647_a', 'fft_117_b', 'fft_77_b', 'fft_46_b', 'mean_d_46_b', 'covmat_76_b', 'fft_156_b', 'fft_726_a', 'correlate_51_a', 'covmat_36_a', 'fft_109_a', 'moments_6_a', 'covmat_72_a', 'min_d_3_b', 'fft_681_b', 'fft_633_a', 'fft_30_b', 'mean_d_2_a2', 'max_q_6_b', 'fft_445_b', 'fft_454_b', 'fft_25_a', 'fft_168_a', 'fft_33_b', 'moments_16_b', 'correlate_62_a', 'fft_135_b', 'mean_d_0_b2', 'fft_556_a', 'fft_173_b', 'correlate_49_a', 'fft_358_a', 'fft_11_a', 'fft_185_a', 'fft_423_a', 'fft_480_a', 'fft_92_a', 'fft_653_b', 'correlate_46_a', 'fft_132_a', 'fft_667_b', 'fft_487_b', 'fft_221_b', 'fft_352_a', 'fft_648_a', 'covmat_12_b', 'fft_113_b', 'fft_484_b', 'fft_292_b', 'correlate_12_a', 'correlate_48_a', 'fft_673_a', 'fft_311_b', 'fft_715_b', 'fft_250_b', 'fft_52_a', 'fft_123_a', 'fft_181_b', 'fft_239_b', 'fft_193_a', 'fft_402_a', 'mean_d_20_b', 'fft_303_a', 'fft_493_b', 'fft_499_a', 'covmat_76_a', 'max_q_17_a', 'fft_288_a', 'fft_245_a', 'fft_674_b', 'fft_414_b', 'correlate_70_a', 'fft_119_b', 'min_q_11_b', 'fft_684_a', 'eigen_8_b', 'fft_125_a', 'fft_356_b', 'fft_126_b', 'fft_4_a', 'fft_662_b', 'correlate_27_a', 'fft_561_b', 'covmat_88_a', 'correlate_55_a', 'fft_33_a', 'fft_300_a', 'max_q_2_a', 'covmat_90_a', 'min_q_18_a', 'fft_322_b', 'fft_294_b', 'fft_361_b', 'fft_687_a', 'fft_631_a', 'fft_351_a', 'mean_d_8_b', 'fft_683_b', 'min_q_7_b', 'fft_602_a', 'fft_699_b', 'fft_24_a', 'fft_83_a', 'fft_595_a', 'fft_491_b', 'fft_115_b', 'fft_17_b', 'fft_534_b', 'correlate_19_b', 'covmat_30_a', 'fft_574_b', 'fft_407_a', 'fft_89_a', 'fft_105_a', 'fft_41_b', 'fft_141_b', 'fft_99_b', 'fft_277_b', 'fft_200_a', 'fft_519_b', 'fft_545_b', 'correlate_54_a', 'fft_13_b', 'fft_270_a', 'correlate_59_b', 'moments_11_a', 'fft_410_b', 'fft_736_a', 'mean_d_4_b2', 'fft_479_a', 'fft_725_a', 'fft_228_a', 'fft_359_a', 'fft_544_b', 'fft_230_a', 'fft_371_b', 'covmat_95_a', 'fft_5_b', 'fft_143_b', 'fft_149_a', 'moments_18_b', 'fft_135_a', 'covmat_44_a', 'fft_337_a', 'fft_510_a', 'fft_645_a', 'fft_731_a', 'fft_286_b', 'fft_29_a', 'covmat_138_a', 'fft_348_a', 'fft_428_a', 'fft_691_b', 'max_q_35_a', 'mean_d_32_b', 'fft_577_a', 'fft_705_a', 'mean_d_3_b2', 'fft_116_a', 'fft_588_b', 'fft_75_a', 'fft_711_a', 'fft_86_a', 'fft_202_b', 'fft_609_b', 'fft_6_b', 'fft_523_b', 'fft_634_a', 'fft_388_a', 'covmat_141_a', 'fft_246_a', 'fft_628_b', 'fft_613_a', 'fft_458_a', 'covmat_96_a', 'fft_404_a', 'fft_334_a', 'fft_641_a', 'fft_704_a', 'eigen_7_a', 'fft_722_b', 'fft_430_a', 'min_q_11_a', 'fft_108_a', 'fft_374_b', 'fft_134_b', 'fft_105_b', 'fft_43_a', 'fft_330_a', 'fft_717_b', 'fft_535_b', 'moments_11_b', 'min_q_5_b', 'eigen_7_b', 'fft_347_a', 'fft_737_a', 'fft_650_b', 'correlate_4_b', 'fft_679_a', 'covmat_136_a', 'fft_277_a', 'fft_460_b', 'moments_13_a', 'fft_541_b', 'fft_599_a', 'fft_247_b', 'covmat_62_b', 'covmat_20_a', 'covmat_109_a', 'fft_126_a', 'fft_344_a', 'correlate_23_a', 'fft_342_b', 'fft_137_b', 'min_q_7_a', 'fft_196_a', 'fft_10_b', 'fft_193_b', 'mean_d_2_b2', 'fft_66_a', 'fft_101_b', 'fft_37_a', 'fft_3_b', 'fft_564_b', 'fft_445_a', 'fft_380_b', 'fft_389_b', 'fft_712_b', 'fft_171_b', 'covmat_102_a', 'correlate_50_a', 'fft_560_b', 'fft_462_b', 'covmat_126_a', 'fft_736_b', 'fft_62_a', 'fft_195_b', 'fft_743_b', 'fft_68_a', 'fft_731_b', 'fft_47_b', 'moments_12_a', 'covmat_128_a', 'fft_489_a', 'fft_97_a', 'fft_631_b', 'fft_367_b', 'fft_275_b', 'fft_658_b', 'fft_84_a', 'fft_227_a', 'fft_138_b', 'correlate_45_a', 'fft_682_b', 'fft_206_a', 'fft_47_a', 'fft_720_a', 'fft_207_b', 'fft_744_b', 'min_q_31_a', 'fft_255_b', 'moments_5_a', 'fft_531_a', 'covmat_120_b', 'covmat_25_b', 'fft_82_b', 'fft_556_b', 'correlate_9_b', 'fft_3_a', 'fft_699_a', 'correlate_14_a', 'fft_600_a', 'fft_274_b', 'fft_72_a', 'fft_144_b', 'fft_378_a', 'covmat_109_b', 'fft_226_a', 'covmat_55_a', 'fft_429_a', 'fft_69_b', 'fft_729_b', 'fft_708_a', 'eigen_8_a', 'fft_306_a', 'fft_120_b', 'fft_383_a', 'covmat_87_b', 'fft_606_a', 'fft_714_b', 'eigen_6_a', 'fft_663_b', 'fft_497_b', 'fft_299_a', 'correlate_50_b', 'covmat_60_b', 'fft_741_b', 'fft_690_a', 'fft_693_a', 'fft_178_a', 'fft_266_a', 'correlate_63_a', 'fft_341_b', 'fft_741_a', 'fft_386_a', 'fft_579_a', 'fft_466_b', 'fft_478_b', 'fft_511_b', 'fft_124_a', 'fft_689_a', 'fft_98_b', 'fft_110_b', 'fft_693_b', 'fft_334_b', 'fft_139_b', 'mean_d_11_a', 'fft_133_a', 'fft_476_b', 'fft_463_b', 'fft_26_b', 'covmat_60_a', 'fft_103_a', 'fft_593_a', 'fft_169_a', 'correlate_8_a', 'fft_679_b', 'fft_583_a', 'fft_370_b', 'mean_d_26_b', 'fft_344_b', 'covmat_101_b', 'correlate_5_b', 'fft_365_b', 'correlate_28_b', 'fft_658_a', 'fft_131_b', 'fft_188_b', 'moments_6_b', 'fft_408_a', 'fft_77_a', 'fft_175_a', 'mean_d_29_b', 'fft_190_b', 'fft_448_a', 'covmat_63_b', 'fft_62_b', 'fft_452_b', 'fft_287_a', 'fft_204_b', 'correlate_58_b', 'fft_723_a', 'fft_435_b', 'correlate_18_a', 'fft_67_a', 'fft_364_b', 'covmat_121_a', 'fft_249_b', 'fft_457_b', 'covmat_134_a', 'covmat_143_a', 'correlate_64_a', 'fft_532_a', 'correlate_56_b', 'mean_d_46_a', 'correlate_72_a', 'fft_304_a', 'correlate_49_b', 'fft_706_a', 'fft_403_a', 'max_q_41_a', 'correlate_72_b', 'fft_27_a', 'fft_472_b', 'fft_578_b', 'fft_7_b', 'fft_434_b', 'fft_113_a', 'correlate_55_b', 'correlate_13_a', 'fft_293_b', 'fft_729_a', 'correlate_36_a', 'fft_257_b', 'fft_149_b', 'fft_455_b', 'fft_317_a', 'eigen_0_a', 'covmat_98_a', 'fft_480_b', 'fft_20_b', 'max_q_20_b', 'fft_256_b', 'correlate_35_a', 'fft_216_b', 'covmat_124_b', 'mean_d_1_b2', 'covmat_91_a', 'correlate_66_a', 'fft_373_a', 'moments_17_a', 'max_q_40_a', 'fft_503_a', 'fft_605_a', 'fft_225_b', 'fft_438_b', 'covmat_139_a', 'mean_d_29_a', 'fft_312_a', 'fft_420_a', 'fft_725_b', 'fft_21_a', 'fft_513_a', 'fft_419_a', 'fft_625_b', 'fft_45_b', 'fft_209_b', 'fft_440_b', 'fft_297_b', 'fft_124_b', 'fft_317_b', 'mean_d_7_b', 'covmat_82_b', 'fft_720_b', 'fft_73_b', 'fft_596_b', 'fft_381_a', 'fft_232_a', 'fft_608_b', 'mean_d_5_b', 'fft_615_a', 'covmat_9_b', 'correlate_30_b', 'fft_308_b', 'fft_675_a', 'fft_660_a', 'covmat_77_b', 'min_q_43_a', 'covmat_137_b', 'fft_90_b', 'fft_649_a', 'fft_179_b', 'fft_431_a', 'fft_122_a', 'fft_630_a', 'mean_d_23_a', 'max_q_4_b', 'covmat_48_b', 'covmat_64_b', 'fft_112_a', 'fft_651_b', 'fft_48_a', 'fft_390_a', 'covmat_8_b', 'fft_665_b', 'correlate_52_b', 'fft_689_b', 'covmat_110_b', 'fft_425_b', 'correlate_69_b', 'fft_456_b', 'fft_462_a', 'covmat_114_b', 'fft_568_b', 'fft_127_a', 'correlate_17_b', 'fft_667_a', 'fft_177_b', 'fft_194_a', 'fft_391_a', 'fft_73_a', 'mean_d_26_a', 'covmat_74_a', 'fft_210_a', 'fft_241_b', 'fft_419_b', 'fft_533_b', 'fft_110_a', 'fft_433_a', 'fft_165_b', 'fft_203_b', 'fft_540_b', 'fft_223_b', 'fft_452_a', 'correlate_71_a', 'correlate_60_b', 'fft_214_a', 'covmat_104_b', 'fft_94_b', 'covmat_136_b', 'covmat_64_a', 'fft_253_a', 'fft_195_a', 'fft_65_b', 'fft_641_b', 'correlate_64_b', 'fft_698_b', 'fft_624_a', 'fft_539_a', 'fft_380_a', 'fft_733_a', 'fft_585_a', 'fft_230_b', 'mean_d_7_a', 'fft_58_b', 'max_q_40_b', 'correlate_16_a', 'correlate_43_a', 'fft_201_a', 'fft_493_a', 'fft_333_b', 'covmat_135_a', 'covmat_96_b', 'correlate_32_b', 'covmat_116_a', 'fft_360_b', 'fft_468_b', 'fft_300_b', 'fft_130_b', 'fft_349_b', 'fft_336_a', 'covmat_85_b', 'fft_160_a', 'fft_449_b', 'covmat_113_b', 'fft_265_b', 'fft_466_a', 'fft_694_b', 'fft_28_a', 'fft_403_b', 'fft_515_a', 'covmat_125_b', 'fft_322_a', 'fft_733_b', 'fft_454_a', 'fft_342_a', 'correlate_32_a', 'fft_304_b', 'fft_83_b', 'fft_50_a', 'min_q_3_b', 'fft_697_b', 'fft_524_b', 'fft_704_b', 'max_q_7_a', 'fft_625_a', 'fft_471_a', 'fft_559_b', 'fft_287_b', 'fft_106_b', 'fft_316_a', 'fft_619_a', 'fft_550_b', 'fft_488_a', 'covmat_49_a', 'fft_517_b', 'fft_180_a', 'fft_343_a', 'fft_690_b', 'fft_54_b', 'covmat_113_a', 'fft_376_b', 'fft_455_a', 'fft_57_b', 'covmat_102_b', 'fft_209_a', 'fft_309_a', 'fft_52_b', 'fft_628_a', 'fft_254_a', 'fft_476_a', 'covmat_111_b', 'correlate_35_b', 'entropy4_b', 'fft_675_b', 'correlate_44_a', 'covmat_111_a', 'fft_595_b', 'fft_141_a', 'correlate_34_b', 'fft_298_b', 'fft_598_a', 'fft_318_a', 'fft_65_a', 'fft_639_a', 'fft_174_b', 'fft_357_b', 'correlate_67_b', 'fft_509_a', 'fft_271_b', 'fft_302_b', 'fft_606_b', 'fft_274_a', 'fft_144_a', 'fft_714_a', 'fft_599_b', 'moments_8_b', 'fft_640_a', 'fft_139_a', 'fft_406_a', 'fft_539_b', 'fft_500_a', 'fft_146_a', 'fft_702_b', 'fft_295_b', 'fft_154_a', 'fft_335_b', 'fft_520_a', 'fft_444_a', 'fft_43_b', 'fft_42_a', 'fft_505_b', 'fft_624_b', 'fft_638_a', 'fft_378_b', 'correlate_23_b', 'fft_264_b', 'fft_4_b', 'fft_523_a', 'fft_153_a', 'fft_408_b', 'covmat_133_b', 'fft_247_a', 'max_q_5_b', 'correlate_18_b', 'fft_285_a', 'max_2_b', 'fft_44_a', 'fft_563_b', 'fft_280_a', 'fft_190_a', 'fft_557_b', 'fft_346_a', 'covmat_84_b', 'covmat_122_b', 'fft_456_a', 'covmat_104_a', 'fft_320_a', 'min_q_1_b', 'fft_512_a', 'fft_622_a', 'fft_531_b', 'fft_611_b', 'fft_121_b', 'fft_114_b', 'covmat_139_b', 'fft_388_b', 'fft_496_b', 'fft_246_b', 'fft_522_b', 'fft_600_b', 'fft_589_a', 'fft_23_a', 'fft_571_b', 'fft_151_a', 'fft_191_a', 'fft_355_b', 'fft_668_a', 'correlate_37_a', 'fft_0_b', 'covmat_114_a', 'fft_125_b', 'fft_425_a', 'fft_745_b', 'fft_305_a', 'fft_353_b', 'fft_329_b', 'fft_79_a', 'min_q_22_b', 'fft_289_a', 'fft_354_b', 'fft_206_b', 'fft_399_b', 'fft_131_a', 'fft_529_a', 'fft_653_a', 'fft_272_a', 'fft_276_a', 'fft_39_a', 'fft_85_b', 'fft_1_a', 'fft_375_b', 'fft_41_a', 'max_q_24_b', 'fft_709_b', 'fft_87_b', 'covmat_116_b', 'fft_514_a', 'fft_245_b', 'covmat_49_b', 'covmat_86_a', 'fft_620_a', 'fft_279_a', 'fft_379_b', 'min_q_1_a', 'fft_75_b', 'fft_688_b', 'covmat_132_b', 'fft_159_b', 'fft_563_a', 'fft_420_b', 'fft_331_b', 'fft_362_b', 'fft_713_b', 'fft_377_b', 'fft_226_b', 'fft_219_a', 'fft_561_a', 'fft_746_a', 'fft_64_a', 'fft_695_a', 'fft_740_a', 'fft_86_b', 'fft_48_b', 'fft_548_a', 'min_q_26_a', 'fft_660_b', 'fft_718_a', 'correlate_17_a', 'fft_417_b', 'correlate_29_b', 'fft_169_b', 'fft_222_a', 'fft_115_a', 'fft_148_b', 'fft_491_a', 'fft_646_a', 'fft_498_a', 'fft_199_b', 'eigen_4_b', 'min_0_a', 'fft_442_b', 'fft_345_b', 'fft_118_b', 'fft_744_a', 'fft_538_a', 'fft_593_b', 'fft_448_b', 'fft_158_a', 'fft_213_a', 'covmat_45_b', 'fft_381_b', 'fft_732_a', 'correlate_39_a', 'fft_424_a', 'fft_355_a', 'fft_682_a', 'fft_108_b', 'fft_102_b', 'correlate_74_a', 'fft_228_b', 'fft_64_b', 'fft_240_a', 'fft_551_b', 'covmat_48_a', 'fft_262_a', 'fft_382_b', 'correlate_68_b', 'fft_104_a', 'fft_621_b', 'fft_433_b', 'fft_632_a', 'covmat_100_b', 'moments_16_a', 'correlate_2_b', 'fft_51_a', 'fft_486_b', 'fft_184_a', 'correlate_15_a', 'fft_269_a', 'fft_128_a', 'fft_405_b', 'fft_409_b', 'fft_251_a', 'fft_439_b', 'correlate_1_b', 'fft_469_a', 'fft_161_a', 'fft_265_a', 'fft_278_a', 'fft_38_a', 'fft_557_a', 'fft_680_b', 'covmat_51_a', 'fft_56_a', 'fft_427_b', 'fft_60_a', 'fft_473_a', 'fft_224_b', 'fft_409_a', 'fft_437_b', 'fft_680_a', 'fft_453_a', 'fft_528_b', 'max_q_30_a', 'min_3_a', 'fft_726_b', 'correlate_36_b', 'fft_252_b', 'correlate_3_a', 'fft_11_b', 'min_q_12_b', 'fft_400_a', 'fft_450_b', 'fft_310_b', 'fft_272_b', 'fft_500_b', 'fft_495_a', 'mean_d_24_b', 'min_q_31_b', 'fft_654_b', 'max_q_46_a', 'correlate_11_b', 'fft_666_a', 'fft_503_b', 'fft_532_b', 'max_q_30_b', 'fft_526_a', 'covmat_61_a', 'fft_114_a', 'fft_434_a', 'correlate_53_b', 'fft_748_b', 'fft_543_b', 'covmat_122_a', 'moments_12_b', 'fft_280_b', 'fft_585_b', 'fft_649_b', 'fft_525_b', 'fft_518_b', 'fft_570_b', 'max_q_33_a', 'fft_147_a', 'fft_384_a', 'fft_594_b', 'covmat_11_b', 'fft_451_b', 'fft_511_a', 'fft_222_b', 'fft_643_b', 'fft_310_a', 'correlate_67_a', 'fft_23_b', 'covmat_50_a', 'fft_541_a', 'fft_747_b', 'fft_712_a', 'fft_253_b', 'fft_218_a', 'fft_535_a', 'fft_569_a', 'fft_215_a', 'fft_525_a', 'fft_504_b', 'fft_497_a', 'fft_170_a', 'fft_590_b', 'fft_281_a', 'fft_601_b', 'min_q_17_a', 'fft_92_b', 'fft_413_b', 'fft_298_a', 'fft_496_a', 'correlate_19_a', 'fft_398_a', 'fft_166_b', 'moments_15_a', 'fft_180_b', 'fft_379_a', 'fft_199_a', 'fft_457_a', 'fft_639_b', 'fft_626_a', 'fft_29_b', 'fft_364_a', 'fft_349_a', 'fft_417_a', 'fft_551_a', 'fft_640_b', 'fft_715_a', 'max_q_35_b', 'fft_45_a', 'correlate_34_a', 'correlate_48_b', 'fft_616_a', 'fft_620_b', 'fft_734_a', 'covmat_75_b', 'fft_470_b', 'fft_721_a', 'fft_596_a', 'fft_713_a', 'fft_659_b', 'fft_393_b', 'fft_320_b', 'correlate_61_b', 'fft_706_b', 'fft_507_a', 'fft_517_a', 'fft_494_a', 'moments_3_b', 'fft_499_b', 'covmat_36_b', 'moments_19_b', 'fft_656_b', 'fft_727_b', 'correlate_68_a', 'covmat_117_b', 'fft_735_a', 'fft_574_a', 'fft_15_b', 'fft_555_a', 'eigen_3_b', 'fft_119_a', 'fft_415_b', 'moments_17_b', 'fft_412_a', 'fft_19_a', 'fft_447_a', 'fft_161_b', 'eigen_1_a', 'min_q_41_b', 'correlate_40_a', 'max_q_3_b', 'fft_573_b', 'fft_81_b', 'fft_275_a', 'min_q_17_b', 'correlate_15_b', 'fft_512_b'}\n"
     ]
    }
   ],
   "source": [
    "for i in range(len(correlation_matrix.columns)):\n",
    "    for j in range(i):\n",
    "        if abs(correlation_matrix.iloc[i, j]) > 0.9:\n",
    "            colname = correlation_matrix.columns[i]\n",
    "            correlated_features.add(colname)\n",
    "\n",
    "#Total number of correlated features\n",
    "print(len(correlated_features))\n",
    "#Printing features that are correlated\n",
    "print(correlated_features)\n",
    "\n"
   ]
  },
  {
   "cell_type": "code",
   "execution_count": 14,
   "metadata": {
    "execution": {
     "iopub.execute_input": "2020-10-02T16:34:28.043726Z",
     "iopub.status.busy": "2020-10-02T16:34:28.042838Z",
     "iopub.status.idle": "2020-10-02T16:34:28.047085Z",
     "shell.execute_reply": "2020-10-02T16:34:28.046383Z"
    },
    "papermill": {
     "duration": 0.047442,
     "end_time": "2020-10-02T16:34:28.047225",
     "exception": false,
     "start_time": "2020-10-02T16:34:27.999783",
     "status": "completed"
    },
    "tags": []
   },
   "outputs": [],
   "source": [
    "#Droping columns that are correlated\n",
    "X.drop(labels=correlated_features, axis=1, inplace=True)"
   ]
  },
  {
   "cell_type": "code",
   "execution_count": 15,
   "metadata": {
    "execution": {
     "iopub.execute_input": "2020-10-02T16:34:28.113258Z",
     "iopub.status.busy": "2020-10-02T16:34:28.111976Z",
     "iopub.status.idle": "2020-10-02T16:34:28.117503Z",
     "shell.execute_reply": "2020-10-02T16:34:28.118110Z"
    },
    "papermill": {
     "duration": 0.041613,
     "end_time": "2020-10-02T16:34:28.118295",
     "exception": false,
     "start_time": "2020-10-02T16:34:28.076682",
     "status": "completed"
    },
    "tags": []
   },
   "outputs": [
    {
     "data": {
      "text/plain": [
       "(2132, 632)"
      ]
     },
     "execution_count": 15,
     "metadata": {},
     "output_type": "execute_result"
    }
   ],
   "source": [
    "X.shape\n",
    "# We are left with 632 columns"
   ]
  },
  {
   "cell_type": "code",
   "execution_count": 16,
   "metadata": {
    "execution": {
     "iopub.execute_input": "2020-10-02T16:34:28.188528Z",
     "iopub.status.busy": "2020-10-02T16:34:28.187725Z",
     "iopub.status.idle": "2020-10-02T16:34:28.199141Z",
     "shell.execute_reply": "2020-10-02T16:34:28.198482Z"
    },
    "papermill": {
     "duration": 0.049732,
     "end_time": "2020-10-02T16:34:28.199277",
     "exception": false,
     "start_time": "2020-10-02T16:34:28.149545",
     "status": "completed"
    },
    "tags": []
   },
   "outputs": [],
   "source": [
    "X_array = np.array(X)"
   ]
  },
  {
   "cell_type": "code",
   "execution_count": 17,
   "metadata": {
    "execution": {
     "iopub.execute_input": "2020-10-02T16:34:28.267063Z",
     "iopub.status.busy": "2020-10-02T16:34:28.266174Z",
     "iopub.status.idle": "2020-10-02T16:34:28.281210Z",
     "shell.execute_reply": "2020-10-02T16:34:28.280465Z"
    },
    "papermill": {
     "duration": 0.052041,
     "end_time": "2020-10-02T16:34:28.281381",
     "exception": false,
     "start_time": "2020-10-02T16:34:28.229340",
     "status": "completed"
    },
    "tags": []
   },
   "outputs": [],
   "source": [
    "X_train, X_test, y_train, y_test = train_test_split(X_array, y, test_size = 0.3)"
   ]
  },
  {
   "cell_type": "code",
   "execution_count": 18,
   "metadata": {
    "execution": {
     "iopub.execute_input": "2020-10-02T16:34:28.361517Z",
     "iopub.status.busy": "2020-10-02T16:34:28.360741Z",
     "iopub.status.idle": "2020-10-02T16:34:28.573003Z",
     "shell.execute_reply": "2020-10-02T16:34:28.573898Z"
    },
    "papermill": {
     "duration": 0.26164,
     "end_time": "2020-10-02T16:34:28.574127",
     "exception": false,
     "start_time": "2020-10-02T16:34:28.312487",
     "status": "completed"
    },
    "tags": []
   },
   "outputs": [
    {
     "name": "stdout",
     "output_type": "stream",
     "text": [
      "Explained Variance ratio by Principal Component  1  :  0.8019051794534983\n",
      "Explained Variance ratio by Principal Component  2  :  0.19785591307535896\n",
      "Explained Variance ratio by Principal Component  3  :  0.00019890303304873744\n",
      "Explained Variance ratio by Principal Component  4  :  3.84408892275972e-05\n",
      "Explained Variance ratio by Principal Component  5  :  1.3010088738418531e-06\n",
      "Explained Variance ratio by Principal Component  6  :  2.6251316786977074e-07\n",
      "Explained Variance ratio by Principal Component  7  :  2.3977299809365936e-11\n",
      "Explained Variance ratio by Principal Component  8  :  2.633011469169025e-12\n",
      "Explained Variance ratio by Principal Component  9  :  1.4047192022633986e-13\n",
      "Explained Variance ratio by Principal Component  10  :  4.891552502856586e-14\n",
      "Explained Variance ratio by Principal Component  11  :  1.1616708911340525e-14\n",
      "Explained Variance ratio by Principal Component  12  :  5.903980563899618e-15\n",
      "Explained Variance ratio by Principal Component  13  :  4.4030859363009794e-15\n",
      "Explained Variance ratio by Principal Component  14  :  1.0781042980152543e-15\n",
      "Explained Variance ratio by Principal Component  15  :  9.79878789106591e-16\n",
      "Explained Variance ratio by Principal Component  16  :  7.420000170059889e-16\n",
      "Explained Variance ratio by Principal Component  17  :  4.4438234317294003e-17\n",
      "Explained Variance ratio by Principal Component  18  :  1.4999678672153803e-17\n",
      "Explained Variance ratio by Principal Component  19  :  1.095297966830114e-17\n",
      "Explained Variance ratio by Principal Component  20  :  1.0017499111184868e-17\n",
      "Explained Variance ratio by Principal Component  21  :  8.103332815928779e-18\n",
      "Explained Variance ratio by Principal Component  22  :  6.6809069079728366e-18\n",
      "Explained Variance ratio by Principal Component  23  :  5.726260780866912e-18\n",
      "Explained Variance ratio by Principal Component  24  :  3.553448210090662e-18\n",
      "Explained Variance ratio by Principal Component  25  :  2.9592884262669334e-18\n"
     ]
    }
   ],
   "source": [
    "#PCA\n",
    "pca_result = PCA(n_components=25)\n",
    "pca_result.fit_transform(X)\n",
    "for index, var in enumerate(pca_result.explained_variance_ratio_):\n",
    "    print(\"Explained Variance ratio by Principal Component \", (index+1), \" : \", var)"
   ]
  },
  {
   "cell_type": "code",
   "execution_count": 19,
   "metadata": {
    "execution": {
     "iopub.execute_input": "2020-10-02T16:34:28.666127Z",
     "iopub.status.busy": "2020-10-02T16:34:28.664993Z",
     "iopub.status.idle": "2020-10-02T16:34:36.117881Z",
     "shell.execute_reply": "2020-10-02T16:34:36.118546Z"
    },
    "papermill": {
     "duration": 7.508683,
     "end_time": "2020-10-02T16:34:36.118765",
     "exception": false,
     "start_time": "2020-10-02T16:34:28.610082",
     "status": "completed"
    },
    "tags": []
   },
   "outputs": [
    {
     "name": "stdout",
     "output_type": "stream",
     "text": [
      "Accuracy VC_eclf1: 0.946875\n",
      "Accuracy VC_eclf2: 0.8765625\n",
      "Accuracy VC_eclf3: 0.8765625\n",
      "Accuracy VC_eclf4: 1.0\n",
      "Accuracy VC_eclf5: 0.4796875\n"
     ]
    }
   ],
   "source": [
    "#Voting Classifier Ensemble Technique\n",
    "clf1 = LogisticRegression(multi_class='multinomial', random_state=1)\n",
    "clf2 = RandomForestClassifier(n_estimators=50, random_state=1)\n",
    "clf3 = GaussianNB()\n",
    "\n",
    "eclf1 = VotingClassifier(estimators=[('lr', clf1), ('rf', clf2), ('gnb', clf3)], voting='hard')\n",
    "eclf1 = eclf1.fit(X_train, y_train)\n",
    "vc_eclf1_y_pred = eclf1.predict(X_test)\n",
    "print(\"Accuracy VC_eclf1:\",accuracy_score(y_test,vc_eclf1_y_pred))\n",
    "\n",
    "\n",
    "eclf2 = VotingClassifier(estimators=[('lr', clf1), ('rf', clf2), ('gnb', clf3)],voting='soft')\n",
    "eclf2 = eclf2.fit(X, y)\n",
    "vc_eclf2_y_pred = eclf2.predict(X_test)\n",
    "print(\"Accuracy VC_eclf2:\",accuracy_score(y_test,vc_eclf2_y_pred))\n",
    "\n",
    "eclf3 = VotingClassifier(estimators=[('lr', clf1), ('rf', clf2), ('gnb', clf3)],voting='soft', weights=[2,1,1],flatten_transform=True)\n",
    "eclf3 = eclf3.fit(X, y)\n",
    "vc_eclf3_y_pred = eclf3.predict(X_test)\n",
    "print(\"Accuracy VC_eclf3:\",accuracy_score(y_test,vc_eclf3_y_pred))\n",
    "\n",
    "eclf4 = VotingClassifier(estimators=[('lr', clf1), ('rf', clf2), ('gnb', clf3)],voting='soft', weights=[1,2,1],flatten_transform=True)\n",
    "eclf4 = eclf4.fit(X, y)\n",
    "vc_eclf4_y_pred = eclf4.predict(X_test)\n",
    "print(\"Accuracy VC_eclf4:\",accuracy_score(y_test,vc_eclf4_y_pred))\n",
    "\n",
    "eclf5 = VotingClassifier(estimators=[('lr', clf1), ('rf', clf2), ('gnb', clf3)],voting='soft', weights=[1,1,2],flatten_transform=True)\n",
    "eclf5 = eclf5.fit(X, y)\n",
    "vc_eclf5_y_pred = eclf5.predict(X_test)\n",
    "print(\"Accuracy VC_eclf5:\",accuracy_score(y_test,vc_eclf5_y_pred))\n",
    "\n",
    "#Random forest is giving us the maximum accuracy from pool of Logistic Regression, Random Forest and Naive Bayes."
   ]
  },
  {
   "cell_type": "code",
   "execution_count": 20,
   "metadata": {
    "execution": {
     "iopub.execute_input": "2020-10-02T16:34:36.218367Z",
     "iopub.status.busy": "2020-10-02T16:34:36.217163Z",
     "iopub.status.idle": "2020-10-02T16:34:36.220145Z",
     "shell.execute_reply": "2020-10-02T16:34:36.220851Z"
    },
    "papermill": {
     "duration": 0.056667,
     "end_time": "2020-10-02T16:34:36.221040",
     "exception": false,
     "start_time": "2020-10-02T16:34:36.164373",
     "status": "completed"
    },
    "tags": []
   },
   "outputs": [],
   "source": [
    "## Pipelines Creation\n",
    "    ## 1. Data Preprocessing by using Standard Scaler\n",
    "    ## 2. Reduce Dimension using PCA\n",
    "    ## 3. Apply  Classifier"
   ]
  },
  {
   "cell_type": "code",
   "execution_count": 21,
   "metadata": {
    "execution": {
     "iopub.execute_input": "2020-10-02T16:34:36.309684Z",
     "iopub.status.busy": "2020-10-02T16:34:36.308855Z",
     "iopub.status.idle": "2020-10-02T16:34:36.312394Z",
     "shell.execute_reply": "2020-10-02T16:34:36.311679Z"
    },
    "papermill": {
     "duration": 0.04446,
     "end_time": "2020-10-02T16:34:36.312536",
     "exception": false,
     "start_time": "2020-10-02T16:34:36.268076",
     "status": "completed"
    },
    "tags": []
   },
   "outputs": [],
   "source": [
    "#Logistic Regression Pipeline with PCA\n",
    "pipeline_lr=Pipeline([('scalar1',StandardScaler()),\n",
    "                     ('pca1',PCA(n_components=25)),\n",
    "                     ('lr_classifier',LogisticRegression(random_state=0))])"
   ]
  },
  {
   "cell_type": "code",
   "execution_count": 22,
   "metadata": {
    "execution": {
     "iopub.execute_input": "2020-10-02T16:34:36.387814Z",
     "iopub.status.busy": "2020-10-02T16:34:36.386779Z",
     "iopub.status.idle": "2020-10-02T16:34:36.390899Z",
     "shell.execute_reply": "2020-10-02T16:34:36.390143Z"
    },
    "papermill": {
     "duration": 0.045171,
     "end_time": "2020-10-02T16:34:36.391040",
     "exception": false,
     "start_time": "2020-10-02T16:34:36.345869",
     "status": "completed"
    },
    "tags": []
   },
   "outputs": [],
   "source": [
    "#Linear Support Vector Classifier Pipeline with PCA\n",
    "pipeline_svc_pca=Pipeline([('scalar2',StandardScaler()),\n",
    "                     ('pca2',PCA(n_components=25)),\n",
    "                     ('svm_cl', LinearSVC())])"
   ]
  },
  {
   "cell_type": "code",
   "execution_count": 23,
   "metadata": {
    "execution": {
     "iopub.execute_input": "2020-10-02T16:34:36.467067Z",
     "iopub.status.busy": "2020-10-02T16:34:36.465954Z",
     "iopub.status.idle": "2020-10-02T16:34:36.470006Z",
     "shell.execute_reply": "2020-10-02T16:34:36.469151Z"
    },
    "papermill": {
     "duration": 0.044965,
     "end_time": "2020-10-02T16:34:36.470157",
     "exception": false,
     "start_time": "2020-10-02T16:34:36.425192",
     "status": "completed"
    },
    "tags": []
   },
   "outputs": [],
   "source": [
    "#Random Forest Pipeline with PCA\n",
    "pipeline_randomforest=Pipeline([('scalar3',StandardScaler()),\n",
    "                     ('pca3',PCA(n_components=25)),\n",
    "                     ('rf_classifier',RandomForestClassifier())])"
   ]
  },
  {
   "cell_type": "code",
   "execution_count": 24,
   "metadata": {
    "execution": {
     "iopub.execute_input": "2020-10-02T16:34:36.547214Z",
     "iopub.status.busy": "2020-10-02T16:34:36.546446Z",
     "iopub.status.idle": "2020-10-02T16:34:36.549914Z",
     "shell.execute_reply": "2020-10-02T16:34:36.549278Z"
    },
    "papermill": {
     "duration": 0.045333,
     "end_time": "2020-10-02T16:34:36.550065",
     "exception": false,
     "start_time": "2020-10-02T16:34:36.504732",
     "status": "completed"
    },
    "tags": []
   },
   "outputs": [],
   "source": [
    "#Random Forest Pipeline without PCA\n",
    "pipeline_randomforest_pca=Pipeline([('scalar3',StandardScaler()),\n",
    "                     ('rf_classifier',RandomForestClassifier())])"
   ]
  },
  {
   "cell_type": "code",
   "execution_count": 25,
   "metadata": {
    "execution": {
     "iopub.execute_input": "2020-10-02T16:34:36.626389Z",
     "iopub.status.busy": "2020-10-02T16:34:36.625584Z",
     "iopub.status.idle": "2020-10-02T16:34:36.629675Z",
     "shell.execute_reply": "2020-10-02T16:34:36.628895Z"
    },
    "papermill": {
     "duration": 0.045423,
     "end_time": "2020-10-02T16:34:36.629828",
     "exception": false,
     "start_time": "2020-10-02T16:34:36.584405",
     "status": "completed"
    },
    "tags": []
   },
   "outputs": [],
   "source": [
    "#Linear Support Vector Classifier without PCA\n",
    "svm_c = Pipeline(steps=[('scaler',StandardScaler()),\n",
    "                             ('svm_cl', LinearSVC())])"
   ]
  },
  {
   "cell_type": "code",
   "execution_count": 26,
   "metadata": {
    "execution": {
     "iopub.execute_input": "2020-10-02T16:34:36.707024Z",
     "iopub.status.busy": "2020-10-02T16:34:36.705947Z",
     "iopub.status.idle": "2020-10-02T16:34:36.709867Z",
     "shell.execute_reply": "2020-10-02T16:34:36.709138Z"
    },
    "papermill": {
     "duration": 0.045172,
     "end_time": "2020-10-02T16:34:36.710024",
     "exception": false,
     "start_time": "2020-10-02T16:34:36.664852",
     "status": "completed"
    },
    "tags": []
   },
   "outputs": [],
   "source": [
    "#XGBoost Pipeline with PCA\n",
    "pl_xgb_pca = Pipeline(steps=\n",
    "                  [('pca4', PCA(n_components=25)) ,('xgboost', xgb.XGBClassifier(objective='multi:softmax'))])"
   ]
  },
  {
   "cell_type": "code",
   "execution_count": 27,
   "metadata": {
    "execution": {
     "iopub.execute_input": "2020-10-02T16:34:36.786952Z",
     "iopub.status.busy": "2020-10-02T16:34:36.786158Z",
     "iopub.status.idle": "2020-10-02T16:34:36.789106Z",
     "shell.execute_reply": "2020-10-02T16:34:36.789717Z"
    },
    "papermill": {
     "duration": 0.043973,
     "end_time": "2020-10-02T16:34:36.789902",
     "exception": false,
     "start_time": "2020-10-02T16:34:36.745929",
     "status": "completed"
    },
    "tags": []
   },
   "outputs": [],
   "source": [
    "#XGBoost Pipeline without PCA\n",
    "pl_xgb = Pipeline(steps=\n",
    "                  [('xgboost', xgb.XGBClassifier(objective='multi:softmax'))])"
   ]
  },
  {
   "cell_type": "code",
   "execution_count": 28,
   "metadata": {
    "execution": {
     "iopub.execute_input": "2020-10-02T16:34:36.872119Z",
     "iopub.status.busy": "2020-10-02T16:34:36.871331Z",
     "iopub.status.idle": "2020-10-02T16:34:49.412511Z",
     "shell.execute_reply": "2020-10-02T16:34:49.413286Z"
    },
    "papermill": {
     "duration": 12.587207,
     "end_time": "2020-10-02T16:34:49.413581",
     "exception": false,
     "start_time": "2020-10-02T16:34:36.826374",
     "status": "completed"
    },
    "tags": []
   },
   "outputs": [
    {
     "name": "stdout",
     "output_type": "stream",
     "text": [
      "[18:49:05] WARNING: C:/Users/Administrator/workspace/xgboost-win64_release_1.4.0/src/learner.cc:1095: Starting in XGBoost 1.3.0, the default evaluation metric used with the objective 'multi:softprob' was changed from 'merror' to 'mlogloss'. Explicitly set eval_metric if you'd like to restore the old behavior.\n",
      "[18:49:06] WARNING: C:/Users/Administrator/workspace/xgboost-win64_release_1.4.0/src/learner.cc:1095: Starting in XGBoost 1.3.0, the default evaluation metric used with the objective 'multi:softprob' was changed from 'merror' to 'mlogloss'. Explicitly set eval_metric if you'd like to restore the old behavior.\n",
      "Logistic Regression with PCA Test Accuracy: 0.9203125\n",
      "Support Vector with PCA Test Accuracy: 0.9015625\n",
      "RandomForest with PCA Test Accuracy: 0.9140625\n",
      "RandomForest without PCA Test Accuracy: 0.990625\n",
      "Support Vector without PCA Test Accuracy: 0.95\n",
      "XGBoost with PCA Test Accuracy: 0.903125\n",
      "XGBoost without PCA Test Accuracy: 0.9921875\n"
     ]
    }
   ],
   "source": [
    "pipelines = [pipeline_lr, pipeline_svc_pca, pipeline_randomforest, pipeline_randomforest_pca,  svm_c, pl_xgb_pca, pl_xgb ]\n",
    "\n",
    "best_accuracy=0.0\n",
    "best_classifier=0\n",
    "best_pipeline=\"\"\n",
    "\n",
    "pipe_dict = {0: 'Logistic Regression with PCA', 1: 'Support Vector with PCA', 2: 'RandomForest with PCA', 3: 'RandomForest without PCA', 4: 'Support Vector without PCA', 5: 'XGBoost with PCA', 6: 'XGBoost without PCA'}\n",
    "\n",
    "# Fit the pipelines\n",
    "for pipe in pipelines:\n",
    "    pipe.fit(X_train, y_train)\n",
    "\n",
    "for i,model in enumerate(pipelines):\n",
    "    print(\"{} Test Accuracy: {}\".format(pipe_dict[i],model.score(X_test,y_test)))"
   ]
  },
  {
   "cell_type": "code",
   "execution_count": 29,
   "metadata": {
    "execution": {
     "iopub.execute_input": "2020-10-02T16:34:49.520428Z",
     "iopub.status.busy": "2020-10-02T16:34:49.519275Z",
     "iopub.status.idle": "2020-10-02T16:34:49.704460Z",
     "shell.execute_reply": "2020-10-02T16:34:49.705529Z"
    },
    "papermill": {
     "duration": 0.244758,
     "end_time": "2020-10-02T16:34:49.705766",
     "exception": false,
     "start_time": "2020-10-02T16:34:49.461008",
     "status": "completed"
    },
    "tags": []
   },
   "outputs": [
    {
     "name": "stdout",
     "output_type": "stream",
     "text": [
      "Classifier with best accuracy: XGBoost without PCA\n"
     ]
    }
   ],
   "source": [
    "for i,model in enumerate(pipelines):\n",
    "    if model.score(X_test,y_test)>best_accuracy:\n",
    "        best_accuracy=model.score(X_test,y_test)\n",
    "        best_pipeline=model\n",
    "        best_classifier=i\n",
    "print('Classifier with best accuracy: {}'.format(pipe_dict[best_classifier]))"
   ]
  },
  {
   "cell_type": "code",
   "execution_count": 30,
   "metadata": {
    "execution": {
     "iopub.execute_input": "2020-10-02T16:34:49.820898Z",
     "iopub.status.busy": "2020-10-02T16:34:49.819437Z",
     "iopub.status.idle": "2020-10-02T16:34:50.271015Z",
     "shell.execute_reply": "2020-10-02T16:34:50.269224Z"
    },
    "papermill": {
     "duration": 0.5158,
     "end_time": "2020-10-02T16:34:50.271199",
     "exception": false,
     "start_time": "2020-10-02T16:34:49.755399",
     "status": "completed"
    },
    "tags": []
   },
   "outputs": [
    {
     "data": {
      "text/plain": [
       "(array([0, 1, 2, 3, 4, 5, 6]),\n",
       " [Text(0, 0, 'Logistic Regression with PCA'),\n",
       "  Text(1, 0, 'Support Vector with PCA'),\n",
       "  Text(2, 0, 'RandomForest with PCA'),\n",
       "  Text(3, 0, 'RandomForest without PCA'),\n",
       "  Text(4, 0, 'Support Vector without PCA'),\n",
       "  Text(5, 0, 'XGBoost with PCA'),\n",
       "  Text(6, 0, 'XGBoost without PCA')])"
      ]
     },
     "execution_count": 30,
     "metadata": {},
     "output_type": "execute_result"
    },
    {
     "data": {
      "image/png": "[encoded data removed]",
      "text/plain": [
       "<Figure size 1152x432 with 1 Axes>"
      ]
     },
     "metadata": {
      "needs_background": "light"
     },
     "output_type": "display_data"
    }
   ],
   "source": [
    "algo = []\n",
    "accuracy = []\n",
    "for i,model in enumerate(pipelines):\n",
    "    algo.append(pipe_dict[i])\n",
    "    accuracy.append((model.score(X_test,y_test))* 100)\n",
    "accuracy_df = pd.DataFrame(list(zip(algo,accuracy)), index  = [0,1,2,3,4,5,6], \n",
    "                                              columns =['Algorithm', 'Accuracy']) \n",
    "plt.figure(figsize=(16,6))\n",
    "sns.barplot(x=\"Algorithm\", y=\"Accuracy\", data=accuracy_df)\n",
    "plt.title('Mean Accuracy for different Algorithms', fontsize=16)\n",
    "plt.ylabel('Accuracy', fontsize=10)\n",
    "plt.xlabel('Algorithm', fontsize=10)\n",
    "plt.xticks(rotation='horizontal')"
   ]
  }
 ],
 "metadata": {
  "kernelspec": {
   "display_name": "Python 3",
   "language": "python",
   "name": "python3"
  },
  "language_info": {
   "codemirror_mode": {
    "name": "ipython",
    "version": 3
   },
   "file_extension": ".py",
   "mimetype": "text/x-python",
   "name": "python",
   "nbconvert_exporter": "python",
   "pygments_lexer": "ipython3",
   "version": "3.8.8"
  },
  "papermill": {
   "duration": 185.667514,
   "end_time": "2020-10-02T16:34:50.422987",
   "environment_variables": {},
   "exception": null,
   "input_path": "__notebook__.ipynb",
   "output_path": "__notebook__.ipynb",
   "parameters": {},
   "start_time": "2020-10-02T16:31:44.755473",
   "version": "2.1.0"
  }
 },
 "nbformat": 4,
 "nbformat_minor": 4
}
